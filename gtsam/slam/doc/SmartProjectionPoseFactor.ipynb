{
  "cells": [
    {
      "cell_type": "markdown",
      "metadata": {
        "id": "intro_md"
      },
      "source": [
        "# SmartProjectionPoseFactor"
      ]
    },
    {
      "cell_type": "markdown",
      "metadata": {
        "id": "desc_md"
      },
      "source": [
        "`SmartProjectionPoseFactor<CALIBRATION>` is a \"smart\" factor optimized for visual SLAM problems where the **camera calibration is known and fixed**, and only the camera **poses** are being optimized.\n",
        "It inherits from `SmartProjectionFactor` but simplifies the setup by taking a single shared `CALIBRATION` object (e.g., `Cal3_S2`, `Cal3Bundler`) assumed to be used by all cameras observing the landmark.\n",
        "\n",
        "Key characteristics:\n",
        "- **Implicit Point:** Like its base class, the 3D point is not an explicit variable.\n",
        "- **Fixed Calibration:** Assumes a single, known calibration `K` for all measurements.\n",
        "- **Pose Variables:** The factor connects `Pose3` variables directly.\n",
        "- **`Values` Requirement:** Requires `Pose3` objects in the `Values` container for its keys.\n",
        "- **Configuration:** Behavior is controlled by `SmartProjectionParams`.\n",
        "\n",
        "**Use Case:** Ideal for visual SLAM or SfM when camera intrinsics are pre-calibrated and assumed constant.\n",
        "**Alternative:** If calibration also needs optimization, use `SmartProjectionFactor`."
      ]
    },
    {
      "cell_type": "markdown",
      "metadata": {
        "id": "colab_badge_md"
      },
      "source": [
        "<a href=\"https://colab.research.google.com/github/borglab/gtsam/blob/develop/gtsam/slam/doc/SmartProjectionPoseFactor.ipynb\" target=\"_parent\"><img src=\"https://colab.research.google.com/assets/colab-badge.svg\" alt=\"Open In Colab\"/></a>"
      ]
    },
    {
      "cell_type": "code",
      "execution_count": null,
      "metadata": {
        "id": "pip_code",
        "tags": [
          "remove-cell"
        ]
      },
      "outputs": [],
      "source": [
        "%pip install --quiet gtsam-develop"
      ]
    },
    {
      "cell_type": "code",
      "execution_count": 1,
      "metadata": {
        "id": "imports_code"
      },
      "outputs": [
        {
          "ename": "ImportError",
          "evalue": "cannot import name 'SmartProjectionPoseFactorCal3_S2' from 'gtsam' (c:\\Users\\porte\\miniconda3\\envs\\gtsam\\Lib\\site-packages\\gtsam\\__init__.py)",
          "output_type": "error",
          "traceback": [
            "\u001b[1;31m---------------------------------------------------------------------------\u001b[0m",
            "\u001b[1;31mImportError\u001b[0m                               Traceback (most recent call last)",
            "Cell \u001b[1;32mIn[1], line 3\u001b[0m\n\u001b[0;32m      1\u001b[0m \u001b[38;5;28;01mimport\u001b[39;00m\u001b[38;5;250m \u001b[39m\u001b[38;5;21;01mgtsam\u001b[39;00m\n\u001b[0;32m      2\u001b[0m \u001b[38;5;28;01mimport\u001b[39;00m\u001b[38;5;250m \u001b[39m\u001b[38;5;21;01mnumpy\u001b[39;00m\u001b[38;5;250m \u001b[39m\u001b[38;5;28;01mas\u001b[39;00m\u001b[38;5;250m \u001b[39m\u001b[38;5;21;01mnp\u001b[39;00m\n\u001b[1;32m----> 3\u001b[0m \u001b[38;5;28;01mfrom\u001b[39;00m\u001b[38;5;250m \u001b[39m\u001b[38;5;21;01mgtsam\u001b[39;00m\u001b[38;5;250m \u001b[39m\u001b[38;5;28;01mimport\u001b[39;00m (Values, Point2, Point3, Pose3, Rot3, NonlinearFactorGraph,\n\u001b[0;32m      4\u001b[0m                    SmartProjectionParams, SmartProjectionPoseFactorCal3_S2,\n\u001b[0;32m      5\u001b[0m                    Cal3_S2)\n\u001b[0;32m      6\u001b[0m \u001b[38;5;28;01mfrom\u001b[39;00m\u001b[38;5;250m \u001b[39m\u001b[38;5;21;01mgtsam\u001b[39;00m\u001b[38;5;250m \u001b[39m\u001b[38;5;28;01mimport\u001b[39;00m symbol_shorthand\n\u001b[0;32m      7\u001b[0m \u001b[38;5;28;01mimport\u001b[39;00m\u001b[38;5;250m \u001b[39m\u001b[38;5;21;01mgraphviz\u001b[39;00m\n",
            "\u001b[1;31mImportError\u001b[0m: cannot import name 'SmartProjectionPoseFactorCal3_S2' from 'gtsam' (c:\\Users\\porte\\miniconda3\\envs\\gtsam\\Lib\\site-packages\\gtsam\\__init__.py)"
          ]
        }
      ],
      "source": [
        "import gtsam\n",
        "import numpy as np\n",
        "from gtsam import (Values, Point2, Point3, Pose3, Rot3, NonlinearFactorGraph,\n",
        "                   SmartProjectionParams, SmartProjectionPoseFactorCal3_S2,\n",
        "                   Cal3_S2)\n",
        "from gtsam import symbol_shorthand\n",
        "import graphviz\n",
        "\n",
        "X = symbol_shorthand.X # Key for Pose3 variable"
      ]
    },
    {
      "cell_type": "markdown",
      "metadata": {
        "id": "create_header_md"
      },
      "source": [
        "## Creating and Adding Measurements"
      ]
    },
    {
      "cell_type": "markdown",
      "metadata": {
        "id": "create_desc_md"
      },
      "source": [
        "1. Create the factor with a noise model, the shared calibration `K`, and parameters.\n",
        "2. Add measurements (2D points) and the corresponding pose keys."
      ]
    },
    {
      "cell_type": "code",
      "execution_count": 1,
      "metadata": {
        "id": "create_example_code"
      },
      "outputs": [
        {
          "name": "stdout",
          "output_type": "stream",
          "text": [
            "Smart factor involves 3 measurements.\n",
            "SmartFactorPose: SmartProjectionPoseFactor, z = \n",
            " SmartProjectionFactor\n",
            "linearizationMode: 0\n",
            "triangulationParameters:\n",
            "rankTolerance = 1e-09\n",
            "enableEPI = false\n",
            "landmarkDistanceThreshold = -1\n",
            "dynamicOutlierRejectionThreshold = -1\n",
            "\n",
            "\n",
            "result:\n",
            "Degenerate\n",
            "\n",
            "SmartFactorBase, z = \n",
            "measurement 0, px = \n",
            "[150; 505]\n",
            "\n",
            "noise model = diagonal sigmas [1; 1];\n",
            "measurement 1, px = \n",
            "[470; 495]\n",
            "\n",
            "noise model = diagonal sigmas [1; 1];\n",
            "measurement 2, px = \n",
            "[480; 150]\n",
            "\n",
            "noise model = diagonal sigmas [1; 1];\n",
            "Factor on x0 x1 x2\n"
          ]
        }
      ],
      "source": [
        "smart_noise = gtsam.noiseModel.Isotropic.Sigma(2, 1.0)\n",
        "smart_params = SmartProjectionParams() # Use default params\n",
        "K = gtsam.make_shared_Cal3_S2(500, 500, 0, 320, 240) # Fixed calibration\n",
        "\n",
        "# Factor type includes the Calibration type\n",
        "smart_factor = SmartProjectionPoseFactorCal3_S2(smart_noise, K, smart_params)\n",
        "\n",
        "# Add measurements and keys (Pose keys)\n",
        "smart_factor.add(Point2(150, 505), X(0))\n",
        "smart_factor.add(Point2(470, 495), X(1))\n",
        "smart_factor.add(Point2(480, 150), X(2))\n",
        "\n",
        "print(f\"Smart factor involves {smart_factor.size()} measurements.\")\n",
        "smart_factor.print(\"SmartFactorPose: \")"
      ]
    },
    {
      "cell_type": "markdown",
      "metadata": {
        "id": "eval_header_md"
      },
      "source": [
        "## Evaluating the Error"
      ]
    },
    {
      "cell_type": "markdown",
      "metadata": {
        "id": "eval_desc_md"
      },
      "source": [
        "The `.error(values)` method uses the `Pose3` objects from `values` and the fixed `K` to triangulate the point and compute the error."
      ]
    },
    {
      "cell_type": "code",
      "execution_count": 2,
      "metadata": {
        "id": "eval_example_code"
      },
      "outputs": [
        {
          "name": "stdout",
          "output_type": "stream",
          "text": [
            "Triangulated point result:\n",
            "Valid triangulation with point [4.15063506 0.18267612 5.20423168]\n",
            "\n",
            "Total reprojection error (0.5 * sum(err^2/sigma^2)): 103876.2153\n"
          ]
        }
      ],
      "source": [
        "# Create Values containing Pose3 objects\n",
        "values = Values()\n",
        "pose0 = Pose3(Rot3.Ypr(0.1, -0.1, 0.2), Point3(-1, 0, 0.5))\n",
        "pose1 = Pose3(Rot3.Ypr(0.0,  0.1, 0.1), Point3( 1, 0, 0.5))\n",
        "pose2 = Pose3(Rot3.Ypr(-0.1, 0.0, -0.2), Point3( 0, 1, 0.5))\n",
        "\n",
        "values.insert(X(0), pose0)\n",
        "values.insert(X(1), pose1)\n",
        "values.insert(X(2), pose2)\n",
        "\n",
        "# Triangulate first to see the implicit point\n",
        "point_result = smart_factor.point(values)\n",
        "print(f\"Triangulated point result:\\n{point_result}\")\n",
        "\n",
        "if point_result.valid():\n",
        "   # Calculate error\n",
        "   total_error = smart_factor.error(values)\n",
        "   print(f\"\\nTotal reprojection error (0.5 * sum(err^2/sigma^2)): {total_error:.4f}\")\n",
        "else:\n",
        "   print(\"\\nTriangulation failed, error calculation depends on degeneracyMode.\")"
      ]
    },
    {
      "cell_type": "markdown",
      "metadata": {
        "id": "linearize_header_md"
      },
      "source": [
        "## Linearization"
      ]
    },
    {
      "cell_type": "markdown",
      "metadata": {
        "id": "linearize_desc_md"
      },
      "source": [
        "Linearization works similarly to `SmartProjectionFactor`, producing a linear factor (default: Hessian) connecting the `Pose3` variables."
      ]
    },
    {
      "cell_type": "code",
      "execution_count": 3,
      "metadata": {
        "id": "linearize_example_code"
      },
      "outputs": [
        {
          "name": "stdout",
          "output_type": "stream",
          "text": [
            "\n",
            "Linearized Factor (showing HessianFactor structure):\n",
            "RegularHessianFactor(6): density=100% keys={ x0 x1 x2 }\n",
            "Augmented information matrix: (dimensions: 6, 6, 6) : \n",
            "{\n",
            "\t[    1900,     4864,     -698,    -5014,    -4686,     -552; ]\n",
            "\t[    4864,  1.337e+04,     1473, -9.522e+03, -1.623e+04,      447; ]\n",
            "\t[    -698,     1473,     4803,     3085,    -3660, -1.118e+04; ]\n",
            "\t[   -5014, -9.522e+03,     3085,     1318,     2669,    -1843; ]\n",
            "\t[   -4686, -1.623e+04,    -3660,     2669,     4137,    -1067; ]\n",
            "\t[    -552,      447, -1.118e+04,    -1843,    -1067,     4035; ]\n",
            "\t[    1318,     2669,    -1843,      768,    -2084,      849; ]\n",
            "\t[    2669,     4137,    -1067,    -2084,     6054,    -1412; ]\n",
            "\t[   -1843,    -1067,     4035,      849,    -1412,     4392; ]\n",
            "\t[    6273, -1.411e+04,    -2161,    11515,    16951,      996; ]\n",
            "\t[    -141,    -1903, -1.299e+04,      230,    -2148,     7017; ]\n",
            "\t[    -104,     5192,    -1500,     -373,     -620,    -7830; ]\n",
            "\t[    -830,     6917,     -785,     -395,    -1398,     -708; ]\n",
            "\t[    -969,     3198,    -1569,      587,     1292,    -3268; ]\n",
            "\t[     268, -1.286e+04,     1865,     -122,    -2205,     2048; ]\n",
            "\t[    -708,    -1569,    -7830,    23563,     2137,     1132; ]\n",
            "\t[    -321,     3767,     -302,     2137,    15054,    -1172; ]\n",
            "\t[   -1196,     5036,     1563,     1132,    -1172,     8384; ]\n",
            "}\n",
            "Augmented Diagonal Block [0,0]:\n",
            "[    1900,     4864,     -698; ]\n",
            "[    4864,  1.337e+04,     1473; ]\n",
            "[    -698,     1473,     4803; ]\n",
            "\n",
            "Augmented Diagonal Block [1,1]:\n",
            "[     768,    -2084,      849; ]\n",
            "[   -2084,     6054,    -1412; ]\n",
            "[     849,    -1412,     4392; ]\n",
            "\n",
            "Augmented Diagonal Block [2,2]:\n",
            "[   23563,     2137,     1132; ]\n",
            "[    2137,    15054,    -1172; ]\n",
            "[    1132,    -1172,     8384; ]\n",
            "\n",
            "Off-Diagonal Block [0,1]:\n",
            "[   -5014,    -4686,     -552; ]\n",
            "[ -9.522e+03, -1.623e+04,      447; ]\n",
            "[    3085,    -3660, -1.118e+04; ]\n",
            "\n",
            "Off-Diagonal Block [0,2]:\n",
            "[   11515,    16951,      996; ]\n",
            "[     230,    -2148,     7017; ]\n",
            "[    -373,     -620,    -7830; ]\n",
            "\n",
            "Off-Diagonal Block [1,2]:\n",
            "[    6273,     -830,     -969; ]\n",
            "[ -1.411e+04,     6917,     3198; ]\n",
            "[    -2161,     -785,    -1569; ]\n",
            "\n",
            "Error vector:\n",
            "[-1.041e+03; -2.952e+03; 1.543e+03; -6.959e+02; -8.037e+02; 1.174e+03; 1.309e+03; 1.288e+03; 1.095e+03]\n",
            "Constant error term: 103876\n"
          ]
        }
      ],
      "source": [
        "graph = NonlinearFactorGraph()\n",
        "graph.add(smart_factor)\n",
        "\n",
        "# Linearize (default mode is HESSIAN)\n",
        "linear_factor = smart_factor.linearize(values)\n",
        "\n",
        "if linear_factor:\n",
        "    print(\"\\nLinearized Factor (showing HessianFactor structure):\")\n",
        "    # Cast to HessianFactor to print its details\n",
        "    # Note: The factor dimension is Pose3::dimension (6)\n",
        "    hessian_factor = gtsam.RegularHessianFactorPose3.Downcast(linear_factor)\n",
        "    if hessian_factor:\n",
        "         hessian_factor.print()\n",
        "    else:\n",
        "         print(\"Linearized factor is not a HessianFactor (check params.linearizationMode)\")\n",
        "else:\n",
        "    print(\"Linearization failed (likely due to triangulation degeneracy)\")"
      ]
    }
  ],
  "metadata": {
    "kernelspec": {
      "display_name": "gtsam",
      "language": "python",
      "name": "python3"
    },
    "language_info": {
      "codemirror_mode": {
        "name": "ipython",
        "version": 3
      },
      "file_extension": ".py",
      "mimetype": "text/x-python",
      "name": "python",
      "nbconvert_exporter": "python",
      "pygments_lexer": "ipython3",
      "version": "3.13.1"
    }
  },
  "nbformat": 4,
  "nbformat_minor": 0
}
