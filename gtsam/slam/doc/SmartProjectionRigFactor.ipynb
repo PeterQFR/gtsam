{
  "cells": [
    {
      "cell_type": "markdown",
      "metadata": {
        "id": "intro_md"
      },
      "source": [
        "# SmartProjectionRigFactor"
      ]
    },
    {
      "cell_type": "markdown",
      "metadata": {
        "id": "desc_md"
      },
      "source": [
        "`SmartProjectionRigFactor<CAMERA>` is a generalization of `SmartProjectionPoseFactor` designed for multi-camera systems (rigs).\n",
        "Like other smart factors, it implicitly represents a 3D point landmark observed by multiple cameras.\n",
        "\n",
        "Key differences/features:\n",
        "- **Multi-Camera Rig:** Assumes a fixed rig configuration, where multiple cameras (`CAMERA` instances, which include fixed intrinsics and fixed extrinsics *relative to the rig's body frame*) are defined.\n",
        "- **Pose Variables:** Connects `Pose3` variables representing the pose of the **rig's body frame** in the world.\n",
        "- **Multiple Observations per Pose:** Allows multiple measurements associated with the *same* body pose key, but originating from different cameras within the rig.\n",
        "- **Camera Indexing:** Each measurement must be associated with both a body pose key and a `cameraId` (index) specifying which camera in the rig took the measurement.\n",
        "- **Fixed Calibration/Extrinsics:** The intrinsics and relative extrinsics of the cameras within the rig are assumed fixed.\n",
        "- **`CAMERA` Template:** Can be templated on various camera models (e.g., `PinholeCamera`, `SphericalCamera`), provided they adhere to the expected GTSAM camera concepts.\n",
        "- **`Values` Requirement:** Requires `Pose3` objects (representing the body frame) in the `Values` container.\n",
        "- **Configuration:** Behavior controlled by `SmartProjectionParams`. **Note:** Currently (as of header comment), only supports `HESSIAN` linearization mode and `ZERO_ON_DEGENERACY` mode.\n",
        "\n",
        "**Use Case:** Ideal for visual SLAM with a calibrated multi-camera rig (e.g., stereo rig, multi-fisheye system) where only the rig's pose is optimized."
      ]
    },
    {
      "cell_type": "markdown",
      "metadata": {
        "id": "colab_badge_md"
      },
      "source": [
        "<a href=\"https://colab.research.google.com/github/borglab/gtsam/blob/develop/gtsam/slam/doc/SmartProjectionRigFactor.ipynb\" target=\"_parent\"><img src=\"https://colab.research.google.com/assets/colab-badge.svg\" alt=\"Open In Colab\"/></a>"
      ]
    },
    {
      "cell_type": "code",
      "execution_count": null,
      "metadata": {
        "id": "pip_code",
        "tags": [
          "remove-cell"
        ]
      },
      "outputs": [],
      "source": [
        "%pip install --quiet gtsam"
      ]
    },
    {
      "cell_type": "code",
      "execution_count": 1,
      "metadata": {
        "id": "imports_code"
      },
      "outputs": [
        {
          "ename": "ImportError",
          "evalue": "cannot import name 'SmartProjectionRigFactorPinholeCameraCal3_S2' from 'gtsam' (c:\\Users\\porte\\miniconda3\\envs\\gtsam\\Lib\\site-packages\\gtsam\\__init__.py)",
          "output_type": "error",
          "traceback": [
            "\u001b[1;31m---------------------------------------------------------------------------\u001b[0m",
            "\u001b[1;31mImportError\u001b[0m                               Traceback (most recent call last)",
            "Cell \u001b[1;32mIn[1], line 3\u001b[0m\n\u001b[0;32m      1\u001b[0m \u001b[38;5;28;01mimport\u001b[39;00m\u001b[38;5;250m \u001b[39m\u001b[38;5;21;01mgtsam\u001b[39;00m\n\u001b[0;32m      2\u001b[0m \u001b[38;5;28;01mimport\u001b[39;00m\u001b[38;5;250m \u001b[39m\u001b[38;5;21;01mnumpy\u001b[39;00m\u001b[38;5;250m \u001b[39m\u001b[38;5;28;01mas\u001b[39;00m\u001b[38;5;250m \u001b[39m\u001b[38;5;21;01mnp\u001b[39;00m\n\u001b[1;32m----> 3\u001b[0m \u001b[38;5;28;01mfrom\u001b[39;00m\u001b[38;5;250m \u001b[39m\u001b[38;5;21;01mgtsam\u001b[39;00m\u001b[38;5;250m \u001b[39m\u001b[38;5;28;01mimport\u001b[39;00m (Values, Point2, Point3, Pose3, Rot3, NonlinearFactorGraph,\n\u001b[0;32m      4\u001b[0m                    SmartProjectionParams, SmartProjectionRigFactorPinholeCameraCal3_S2,\n\u001b[0;32m      5\u001b[0m                    CameraSetPinholeCameraCal3_S2, PinholeCameraCal3_S2, Cal3_S2)\n\u001b[0;32m      6\u001b[0m \u001b[38;5;28;01mfrom\u001b[39;00m\u001b[38;5;250m \u001b[39m\u001b[38;5;21;01mgtsam\u001b[39;00m\u001b[38;5;250m \u001b[39m\u001b[38;5;28;01mimport\u001b[39;00m symbol_shorthand\n\u001b[0;32m      7\u001b[0m \u001b[38;5;28;01mimport\u001b[39;00m\u001b[38;5;250m \u001b[39m\u001b[38;5;21;01mgraphviz\u001b[39;00m\n",
            "\u001b[1;31mImportError\u001b[0m: cannot import name 'SmartProjectionRigFactorPinholeCameraCal3_S2' from 'gtsam' (c:\\Users\\porte\\miniconda3\\envs\\gtsam\\Lib\\site-packages\\gtsam\\__init__.py)"
          ]
        }
      ],
      "source": [
        "import gtsam\n",
        "import numpy as np\n",
        "from gtsam import (Values, Point2, Point3, Pose3, Rot3, NonlinearFactorGraph,\n",
        "                   SmartProjectionParams, SmartProjectionRigFactorPinholeCameraCal3_S2,\n",
        "                   CameraSetPinholeCameraCal3_S2, PinholeCameraCal3_S2, Cal3_S2)\n",
        "from gtsam import symbol_shorthand\n",
        "import graphviz\n",
        "\n",
        "X = symbol_shorthand.X # Key for Pose3 variable (Body Pose)"
      ]
    },
    {
      "cell_type": "markdown",
      "metadata": {
        "id": "create_header_md"
      },
      "source": [
        "## Creating the Rig and Factor"
      ]
    },
    {
      "cell_type": "markdown",
      "metadata": {
        "id": "create_desc_md"
      },
      "source": [
        "1. Define the camera rig configuration: Create a `CameraSet` containing the `CAMERA` objects (with fixed intrinsics and rig-relative extrinsics).\n",
        "2. Create the `SmartProjectionRigFactor` with noise, the rig, and parameters.\n",
        "3. Add measurements, specifying the 2D point, the corresponding **body pose key**, and the **camera ID** within the rig."
      ]
    },
    {
      "cell_type": "code",
      "execution_count": 1,
      "metadata": {
        "id": "create_example_code"
      },
      "outputs": [
        {
          "name": "stdout",
          "output_type": "stream",
          "text": [
            "Smart factor involves 4 measurements from 2 unique poses.\n",
            "SmartFactorRig: SmartProjectionRigFactor: \n",
            " -- Measurement nr 0\n",
            "key: x0\n",
            "cameraId: 0\n",
            "camera in rig:\n",
            "Pose3:\n",
            "R: [\n",
            "\t1, 0, 0;\n",
            "\t0, 1, 0;\n",
            "\t0, 0, 1\n",
            "]\n",
            " t: 0.1 0 0\n",
            "\n",
            "Calibration: fx=500 fy=500 s=0 u0=320 v0=240\n",
            "-- Measurement nr 1\n",
            "key: x0\n",
            "cameraId: 1\n",
            "camera in rig:\n",
            "Pose3:\n",
            "R: [\n",
            "\t1, 0, 0;\n",
            "\t0, 1, 0;\n",
            "\t0, 0, 1\n",
            "]\n",
            " t: 0.1 -0.1 0\n",
            "\n",
            "Calibration: fx=500 fy=500 s=0 u0=320 v0=240\n",
            "-- Measurement nr 2\n",
            "key: x1\n",
            "cameraId: 0\n",
            "camera in rig:\n",
            "Pose3:\n",
            "R: [\n",
            "\t1, 0, 0;\n",
            "\t0, 1, 0;\n",
            "\t0, 0, 1\n",
            "]\n",
            " t: 0.1 0 0\n",
            "\n",
            "Calibration: fx=500 fy=500 s=0 u0=320 v0=240\n",
            "-- Measurement nr 3\n",
            "key: x1\n",
            "cameraId: 1\n",
            "camera in rig:\n",
            "Pose3:\n",
            "R: [\n",
            "\t1, 0, 0;\n",
            "\t0, 1, 0;\n",
            "\t0, 0, 1\n",
            "]\n",
            " t: 0.1 -0.1 0\n",
            "\n",
            "Calibration: fx=500 fy=500 s=0 u0=320 v0=240\n",
            "SmartProjectionFactor\n",
            "linearizationMode: 0\n",
            "triangulationParameters:\n",
            "rankTolerance = 1e-09\n",
            "enableEPI = false\n",
            "landmarkDistanceThreshold = -1\n",
            "dynamicOutlierRejectionThreshold = -1\n",
            "\n",
            "\n",
            "result:\n",
            "Degenerate\n",
            "\n",
            "SmartFactorBase, z = \n",
            "measurement 0, px = \n",
            "[300; 200]\n",
            "\n",
            "noise model = diagonal sigmas [1; 1];\n",
            "measurement 1, px = \n",
            "[250; 201]\n",
            "\n",
            "noise model = diagonal sigmas [1; 1];\n",
            "measurement 2, px = \n",
            "[310; 210]\n",
            "\n",
            "noise model = diagonal sigmas [1; 1];\n",
            "measurement 3, px = \n",
            "[260; 211]\n",
            "\n",
            "noise model = diagonal sigmas [1; 1];\n",
            "Factor on x0 x1\n"
          ]
        }
      ],
      "source": [
        "# 1. Define the Camera Rig\n",
        "K = Cal3_S2(500, 500, 0, 320, 240)\n",
        "# Camera 0: Forward facing, slightly offset\n",
        "body_P_cam0 = Pose3(Rot3.Ypr(0, 0, 0), Point3(0.1, 0, 0))\n",
        "cam0 = PinholeCameraCal3_S2(body_P_cam0, K)\n",
        "# Camera 1: Stereo camera, right of cam0\n",
        "body_P_cam1 = Pose3(Rot3.Ypr(0, 0, 0), Point3(0.1, -0.1, 0)) # Baseline 0.1m\n",
        "cam1 = PinholeCameraCal3_S2(body_P_cam1, K)\n",
        "\n",
        "rig_cameras = CameraSetPinholeCameraCal3_S2()\n",
        "rig_cameras.append(cam0)\n",
        "rig_cameras.append(cam1)\n",
        "rig_cameras_ptr = gtsam.make_shared_CameraSetPinholeCameraCal3_S2(rig_cameras)\n",
        "\n",
        "# 2. Create the Factor\n",
        "smart_noise = gtsam.noiseModel.Isotropic.Sigma(2, 1.0)\n",
        "# Ensure parameters are compatible (HESSIAN, ZERO_ON_DEGENERACY)\n",
        "smart_params = SmartProjectionParams(linearizationMode=gtsam.LinearizationMode.HESSIAN,\n",
        "                                     degeneracyMode=gtsam.DegeneracyMode.ZERO_ON_DEGENERACY)\n",
        "\n",
        "# Factor type includes the Camera type\n",
        "smart_factor = SmartProjectionRigFactorPinholeCameraCal3_S2(smart_noise, rig_cameras_ptr, smart_params)\n",
        "\n",
        "# 3. Add measurements\n",
        "# Observation from Body Pose X(0), Camera 0\n",
        "smart_factor.add(Point2(300, 200), X(0), 0)\n",
        "# Observation from Body Pose X(0), Camera 1 (stereo pair?)\n",
        "smart_factor.add(Point2(250, 201), X(0), 1)\n",
        "# Observation from Body Pose X(1), Camera 0\n",
        "smart_factor.add(Point2(310, 210), X(1), 0)\n",
        "# Observation from Body Pose X(1), Camera 1\n",
        "smart_factor.add(Point2(260, 211), X(1), 1)\n",
        "\n",
        "print(f\"Smart factor involves {smart_factor.size()} measurements from {len(smart_factor.keys())} unique poses.\")\n",
        "smart_factor.print(\"SmartFactorRig: \")"
      ]
    },
    {
      "cell_type": "markdown",
      "metadata": {
        "id": "eval_header_md"
      },
      "source": [
        "## Evaluating the Error"
      ]
    },
    {
      "cell_type": "markdown",
      "metadata": {
        "id": "eval_desc_md"
      },
      "source": [
        "The `.error(values)` method uses the `Pose3` objects (body poses) from `values` and the fixed rig configuration to triangulate the point and compute the error."
      ]
    },
    {
      "cell_type": "code",
      "execution_count": 2,
      "metadata": {
        "id": "eval_example_code"
      },
      "outputs": [
        {
          "name": "stdout",
          "output_type": "stream",
          "text": [
            "Triangulated point result:\n",
            "Valid triangulation with point [0.70307883 0.20615766 5.18676602]\n",
            "\n",
            "Total reprojection error (0.5 * sum(err^2/sigma^2)): 181.1904\n"
          ]
        }
      ],
      "source": [
        "# Create Values containing Body Pose3 objects\n",
        "values = Values()\n",
        "pose0 = Pose3(Rot3.Ypr(0.0, 0.0, 0.0), Point3(0, 0, 0))\n",
        "pose1 = Pose3(Rot3.Ypr(0.1, 0.0, 0.0), Point3(0.5, 0, 0))\n",
        "values.insert(X(0), pose0)\n",
        "values.insert(X(1), pose1)\n",
        "\n",
        "# Triangulate first to see the implicit point\n",
        "# The 'cameras' method internally combines body poses with rig extrinsics\n",
        "point_result = smart_factor.point(values)\n",
        "print(f\"Triangulated point result:\\n{point_result}\")\n",
        "\n",
        "if point_result.valid():\n",
        "   # Calculate error\n",
        "   total_error = smart_factor.error(values)\n",
        "   print(f\"\\nTotal reprojection error (0.5 * sum(err^2/sigma^2)): {total_error:.4f}\")\n",
        "else:\n",
        "   print(\"\\nTriangulation failed, error calculation depends on degeneracyMode.\")\n",
        "   # Since mode is ZERO_ON_DEGENERACY, error should be 0\n",
        "   total_error = smart_factor.error(values)\n",
        "   print(f\"Error when degenerate: {total_error}\")"
      ]
    },
    {
      "cell_type": "markdown",
      "metadata": {
        "id": "linearize_header_md"
      },
      "source": [
        "## Linearization"
      ]
    },
    {
      "cell_type": "markdown",
      "metadata": {
        "id": "linearize_desc_md"
      },
      "source": [
        "Linearization (currently restricted to HESSIAN mode) produces a `RegularHessianFactor` connecting the unique body pose (`Pose3`) variables involved."
      ]
    },
    {
      "cell_type": "code",
      "execution_count": 3,
      "metadata": {
        "id": "linearize_example_code"
      },
      "outputs": [
        {
          "name": "stdout",
          "output_type": "stream",
          "text": [
            "\n",
            "Linearized Factor (HessianFactor structure):\n",
            "RegularHessianFactor(6): density=100% keys={ x0 x1 }\n",
            "Augmented information matrix: (dimensions: 6, 6) : \n",
            "{\n",
            "\t[   1.257,    8.427,     2.81,   -15.09,    3.829,   -3.448; ]\n",
            "\t[   8.427,    56.73,    18.91,   -101.6,    25.77,   -23.21; ]\n",
            "\t[    2.81,    18.91,    6.302,   -33.87,    8.589,   -7.737; ]\n",
            "\t[  -15.09,   -101.6,   -33.87,    181.2,   -46.13,    41.54; ]\n",
            "\t[   3.829,    25.77,    8.589,   -46.13,    11.71,   -10.54; ]\n",
            "\t[  -3.448,   -23.21,   -7.737,    41.54,   -10.54,    9.497; ]\n",
            "\t[   1.257,    8.427,     2.81,   -1.257,   -8.427,    -2.81; ]\n",
            "\t[   8.427,    56.73,    18.91,   -8.427,   -56.73,   -18.91; ]\n",
            "\t[    2.81,    18.91,    6.302,    -2.81,   -18.91,   -6.302; ]\n",
            "\t[  -15.09,   -101.6,   -33.87,    15.09,    101.6,    33.87; ]\n",
            "\t[   3.829,    25.77,    8.589,   -3.829,   -25.77,   -8.589; ]\n",
            "\t[  -3.448,   -23.21,   -7.737,    3.448,    23.21,    7.737; ]\n",
            "\t[   1.257,    8.427,     2.81,   -15.09,    3.829,   -3.448; ]\n",
            "\t[   8.427,    56.73,    18.91,   -101.6,    25.77,   -23.21; ]\n",
            "\t[    2.81,    18.91,    6.302,   -33.87,    8.589,   -7.737; ]\n",
            "\t[   15.09,    101.6,    33.87,   -181.2,    46.13,   -41.54; ]\n",
            "\t[  -3.829,   -25.77,   -8.589,    46.13,   -11.71,    10.54; ]\n",
            "\t[   3.448,    23.21,    7.737,   -41.54,    10.54,   -9.497; ]\n",
            "}\n",
            "Augmented Diagonal Block [0,0]:\n",
            "[   1.257,    8.427,     2.81; ]\n",
            "[   8.427,    56.73,    18.91; ]\n",
            "[    2.81,    18.91,    6.302; ]\n",
            "\n",
            "Augmented Diagonal Block [1,1]:\n",
            "[   1.257,    8.427,     2.81; ]\n",
            "[   8.427,    56.73,    18.91; ]\n",
            "[    2.81,    18.91,    6.302; ]\n",
            "\n",
            "Off-Diagonal Block [0,1]:\n",
            "[  -1.257,   -8.427,    -2.81; ]\n",
            "[  -8.427,   -56.73,   -18.91; ]\n",
            "[   -2.81,   -18.91,   -6.302; ]\n",
            "\n",
            "Error vector:\n",
            "[-15.087; -101.588; -33.8672; 181.19; -46.1294; 41.5391; 15.087; 101.588; 33.8672; -181.19; 46.1294; -41.5391]\n",
            "Constant error term: 181.19\n"
          ]
        }
      ],
      "source": [
        "graph = NonlinearFactorGraph()\n",
        "graph.add(smart_factor)\n",
        "\n",
        "# Linearize (HESSIAN mode)\n",
        "linear_factor = smart_factor.linearize(values)\n",
        "\n",
        "if linear_factor:\n",
        "    print(\"\\nLinearized Factor (HessianFactor structure):\")\n",
        "    hessian_factor = gtsam.RegularHessianFactorPose3.Downcast(linear_factor)\n",
        "    if hessian_factor:\n",
        "         hessian_factor.print()\n",
        "    else:\n",
        "         print(\"Linearized factor is not a HessianFactor\")\n",
        "else:\n",
        "    print(\"Linearization failed (likely due to triangulation degeneracy)\")"
      ]
    }
  ],
  "metadata": {
    "kernelspec": {
      "display_name": "gtsam",
      "language": "python",
      "name": "python3"
    },
    "language_info": {
      "codemirror_mode": {
        "name": "ipython",
        "version": 3
      },
      "file_extension": ".py",
      "mimetype": "text/x-python",
      "name": "python",
      "nbconvert_exporter": "python",
      "pygments_lexer": "ipython3",
      "version": "3.13.1"
    }
  },
  "nbformat": 4,
  "nbformat_minor": 0
}
