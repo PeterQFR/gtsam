{
  "cells": [
    {
      "cell_type": "markdown",
      "metadata": {
        "id": "intro_md"
      },
      "source": [
        "# SmartProjectionParams"
      ]
    },
    {
      "cell_type": "markdown",
      "metadata": {
        "id": "desc_md"
      },
      "source": [
        "`SmartProjectionParams` is a structure used to configure the behavior of \"smart\" factors like `SmartProjectionFactor`, `SmartProjectionPoseFactor`, and `SmartStereoFactor`.\n",
        "These factors implicitly manage the triangulation of a 3D point observed by multiple cameras.\n",
        "\n",
        "Parameters include:\n",
        "- **`linearizationMode`**: Determines the type of linear factor produced when `.linearize()` is called.\n",
        "  - `HESSIAN` (Default): Creates a `RegularHessianFactor` by marginalizing out the point.\n",
        "  - `IMPLICIT_SCHUR`: Creates a `RegularImplicitSchurFactor`.\n",
        "  - `JACOBIAN_Q`: Creates a `JacobianFactorQ`.\n",
        "  - `JACOBIAN_SVD`: Creates a `JacobianFactorSVD`.\n",
        "- **`degeneracyMode`**: How to handle cases where triangulation fails or is ill-conditioned.\n",
        "  - `IGNORE_DEGENERACY` (Default): Factor might become ill-conditioned.\n",
        "  - `ZERO_ON_DEGENERACY`: Return a zero-information factor (Hessian/Jacobian) if triangulation fails.\n",
        "  - `HANDLE_INFINITY`: Treat the point as being at infinity (uses `Unit3` representation).\n",
        "- **`triangulation`**: A `gtsam.TriangulationParameters` struct containing parameters for the `triangulateSafe` function:\n",
        "    - `rankTolerance`: Rank tolerance threshold for SVD during triangulation.\n",
        "    - `enableEPI`: Use Essential matrix check for epipolar inconsistency (only for Point3 landmarks).\n",
        "    - `landmarkDistanceThreshold`: If point distance is greater than this, use point-at-infinity.\n",
        "    - `dynamicOutlierRejectionThreshold`: If non-zero, dynamically rejects measurements based on reprojection error (threshold in sigmas).\n",
        "- **`retriangulationThreshold`**: If the change in camera poses between linearizations exceeds this threshold (Frobenius norm difference), the point is re-triangulated.\n",
        "- **`throwCheirality` / `verboseCheirality`**: Flags inherited from projection factors to control exception handling when a point is behind a camera."
      ]
    },
    {
      "cell_type": "markdown",
      "metadata": {
        "id": "colab_badge_md"
      },
      "source": [
        "<a href=\"https://colab.research.google.com/github/borglab/gtsam/blob/develop/gtsam/slam/doc/SmartFactorParams.ipynb\" target=\"_parent\"><img src=\"https://colab.research.google.com/assets/colab-badge.svg\" alt=\"Open In Colab\"/></a>"
      ]
    },
    {
      "cell_type": "code",
      "execution_count": null,
      "metadata": {
        "id": "pip_code",
        "tags": [
          "remove-cell"
        ]
      },
      "outputs": [],
      "source": [
        "%pip install --quiet gtsam-develop"
      ]
    },
    {
      "cell_type": "code",
      "execution_count": 1,
      "metadata": {
        "id": "imports_code"
      },
      "outputs": [],
      "source": [
        "import gtsam\n",
        "from gtsam import SmartProjectionParams, LinearizationMode, DegeneracyMode"
      ]
    },
    {
      "cell_type": "markdown",
      "metadata": {
        "id": "create_header_md"
      },
      "source": [
        "## Creating and Modifying Params"
      ]
    },
    {
      "cell_type": "code",
      "execution_count": null,
      "metadata": {
        "id": "create_example_code"
      },
      "outputs": [
        {
          "name": "stdout",
          "output_type": "stream",
          "text": [
            "Default Parameters:\n"
          ]
        },
        {
          "ename": "TypeError",
          "evalue": "__init__(): incompatible constructor arguments. The following argument types are supported:\n    1. gtsam.gtsam.SmartProjectionParams()\n\nInvoked with: kwargs: linearizationMode=<LinearizationMode.JACOBIAN_Q: 2>, degeneracyMode=<DegeneracyMode.ZERO_ON_DEGENERACY: 1>, throwCheirality=False, verboseCheirality=True, retriangulationTh=0.001",
          "output_type": "error",
          "traceback": [
            "\u001b[1;31m---------------------------------------------------------------------------\u001b[0m",
            "\u001b[1;31mTypeError\u001b[0m                                 Traceback (most recent call last)",
            "Cell \u001b[1;32mIn[4], line 7\u001b[0m\n\u001b[0;32m      3\u001b[0m \u001b[38;5;28mprint\u001b[39m(\u001b[38;5;124m\"\u001b[39m\u001b[38;5;124mDefault Parameters:\u001b[39m\u001b[38;5;124m\"\u001b[39m)\n\u001b[0;32m      4\u001b[0m \u001b[38;5;66;03m# default_params.print() # TODO\u001b[39;00m\n\u001b[0;32m      5\u001b[0m \n\u001b[0;32m      6\u001b[0m \u001b[38;5;66;03m# Custom parameters\u001b[39;00m\n\u001b[1;32m----> 7\u001b[0m custom_params \u001b[38;5;241m=\u001b[39m \u001b[43mSmartProjectionParams\u001b[49m\u001b[43m(\u001b[49m\n\u001b[0;32m      8\u001b[0m \u001b[43m    \u001b[49m\u001b[43mlinearizationMode\u001b[49m\u001b[43m \u001b[49m\u001b[38;5;241;43m=\u001b[39;49m\u001b[43m \u001b[49m\u001b[43mLinearizationMode\u001b[49m\u001b[38;5;241;43m.\u001b[39;49m\u001b[43mJACOBIAN_Q\u001b[49m\u001b[43m,\u001b[49m\n\u001b[0;32m      9\u001b[0m \u001b[43m    \u001b[49m\u001b[43mdegeneracyMode\u001b[49m\u001b[43m \u001b[49m\u001b[38;5;241;43m=\u001b[39;49m\u001b[43m \u001b[49m\u001b[43mDegeneracyMode\u001b[49m\u001b[38;5;241;43m.\u001b[39;49m\u001b[43mZERO_ON_DEGENERACY\u001b[49m\u001b[43m,\u001b[49m\n\u001b[0;32m     10\u001b[0m \u001b[43m    \u001b[49m\u001b[43mthrowCheirality\u001b[49m\u001b[43m \u001b[49m\u001b[38;5;241;43m=\u001b[39;49m\u001b[43m \u001b[49m\u001b[38;5;28;43;01mFalse\u001b[39;49;00m\u001b[43m,\u001b[49m\n\u001b[0;32m     11\u001b[0m \u001b[43m    \u001b[49m\u001b[43mverboseCheirality\u001b[49m\u001b[43m \u001b[49m\u001b[38;5;241;43m=\u001b[39;49m\u001b[43m \u001b[49m\u001b[38;5;28;43;01mTrue\u001b[39;49;00m\u001b[43m,\u001b[49m\n\u001b[0;32m     12\u001b[0m \u001b[43m    \u001b[49m\u001b[43mretriangulationTh\u001b[49m\u001b[43m \u001b[49m\u001b[38;5;241;43m=\u001b[39;49m\u001b[43m \u001b[49m\u001b[38;5;241;43m1e-3\u001b[39;49m\n\u001b[0;32m     13\u001b[0m \u001b[43m)\u001b[49m\n\u001b[0;32m     14\u001b[0m \u001b[38;5;66;03m# Modify triangulation parameters directly\u001b[39;00m\n\u001b[0;32m     15\u001b[0m custom_params\u001b[38;5;241m.\u001b[39mtriangulation\u001b[38;5;241m.\u001b[39mrankTolerance \u001b[38;5;241m=\u001b[39m \u001b[38;5;241m1e-8\u001b[39m\n",
            "\u001b[1;31mTypeError\u001b[0m: __init__(): incompatible constructor arguments. The following argument types are supported:\n    1. gtsam.gtsam.SmartProjectionParams()\n\nInvoked with: kwargs: linearizationMode=<LinearizationMode.JACOBIAN_Q: 2>, degeneracyMode=<DegeneracyMode.ZERO_ON_DEGENERACY: 1>, throwCheirality=False, verboseCheirality=True, retriangulationTh=0.001"
          ]
        }
      ],
      "source": [
        "# Default parameters\n",
        "default_params = SmartProjectionParams()\n",
        "print(\"Default Parameters:\")\n",
        "default_params.print()\n",
        "\n",
        "# Custom parameters\n",
        "custom_params = SmartProjectionParams(\n",
        "    linearizationMode = LinearizationMode.JACOBIAN_Q,\n",
        "    degeneracyMode = DegeneracyMode.ZERO_ON_DEGENERACY,\n",
        "    throwCheirality = False,\n",
        "    verboseCheirality = True,\n",
        "    retriangulationTh = 1e-3\n",
        ")\n",
        "# Modify triangulation parameters directly\n",
        "custom_params.triangulation.rankTolerance = 1e-8\n",
        "custom_params.triangulation.enableEPI = False\n",
        "custom_params.triangulation.dynamicOutlierRejectionThreshold = 3.0 # Reject points with reproj error > 3*sigma\n",
        "\n",
        "print(\"\\nCustom Parameters:\")\n",
        "custom_params.print()\n",
        "\n",
        "# Accessing parameters\n",
        "print(f\"\\nAccessing Custom Params:\")\n",
        "print(f\"  Linearization Mode: {custom_params.getLinearizationMode()}\")\n",
        "print(f\"  Degeneracy Mode: {custom_params.getDegeneracyMode()}\")\n",
        "print(f\"  Rank Tolerance: {custom_params.getTriangulationParameters().rankTolerance}\")"
      ]
    },
    {
      "cell_type": "markdown",
      "metadata": {
        "id": "usage_header_md"
      },
      "source": [
        "## Usage"
      ]
    },
    {
      "cell_type": "markdown",
      "metadata": {
        "id": "usage_desc_md"
      },
      "source": [
        "These `SmartProjectionParams` objects are passed to the constructors of smart factors, like `SmartProjectionPoseFactor`."
      ]
    },
    {
      "cell_type": "code",
      "execution_count": 2,
      "metadata": {
        "id": "usage_example_code"
      },
      "outputs": [
        {
          "name": "stdout",
          "output_type": "stream",
          "text": [
            "Smart Factor created with custom params:\n",
            "SmartProjectionPoseFactor, z = \n",
            " SmartProjectionFactor\n",
            "linearizationMode: 2\n",
            "triangulationParameters:\n",
            "rankTolerance = 1e-08\n",
            "enableEPI = false\n",
            "landmarkDistanceThreshold = -1\n",
            "dynamicOutlierRejectionThreshold = 3\n",
            "\n",
            "\n",
            "result:\n",
            "Degenerate\n",
            "\n",
            "SmartFactorBase, z = \n",
            "Factor\n"
          ]
        }
      ],
      "source": [
        "from gtsam import SmartProjectionPoseFactorCal3_S2, Cal3_S2\n",
        "\n",
        "# Example: Using custom params with a smart factor\n",
        "noise = gtsam.noiseModel.Isotropic.Sigma(2, 1.0)\n",
        "K = gtsam.make_shared_Cal3_S2(500, 500, 0, 320, 240)\n",
        "\n",
        "smart_factor = SmartProjectionPoseFactorCal3_S2(noise, K, custom_params)\n",
        "print(\"Smart Factor created with custom params:\")\n",
        "smart_factor.print()"
      ]
    }
  ],
  "metadata": {
    "kernelspec": {
      "display_name": "gtsam",
      "language": "python",
      "name": "python3"
    },
    "language_info": {
      "codemirror_mode": {
        "name": "ipython",
        "version": 3
      },
      "file_extension": ".py",
      "mimetype": "text/x-python",
      "name": "python",
      "nbconvert_exporter": "python",
      "pygments_lexer": "ipython3",
      "version": "3.13.1"
    }
  },
  "nbformat": 4,
  "nbformat_minor": 0
}
