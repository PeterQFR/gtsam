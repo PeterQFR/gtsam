{
  "cells": [
    {
      "cell_type": "markdown",
      "metadata": {
        "id": "intro_md"
      },
      "source": [
        "# LAGO (Linear Approximation for Graph Optimization)"
      ]
    },
    {
      "cell_type": "markdown",
      "metadata": {
        "id": "desc_md"
      },
      "source": [
        "The `gtsam::lago` namespace provides functions for initializing `Pose2` estimates in a 2D SLAM factor graph.\n",
        "LAGO stands for Linear Approximation for Graph Optimization. It leverages the structure of typical 2D SLAM problems to efficiently compute an initial guess, particularly for the orientations, which are often the most challenging part for nonlinear solvers.\n",
        "\n",
        "The core idea is:\n",
        "1.  **Estimate Orientations:** Assume orientations are independent of translations and solve a linear system just for the orientations ($\theta$). This exploits the fact that the orientation part of the `Pose2` `BetweenFactor` error is approximately linear for small errors.\n",
        "2.  **Estimate Translations:** Given the estimated orientations, compute the translations by solving another linear system.\n",
        "\n",
        "Key functions:\n",
        "*   `initializeOrientations(graph)`: Computes initial estimates for the `Rot2` (orientation) components of the poses in the graph.\n",
        "*   `initialize(graph)`: Computes initial estimates for the full `Pose2` variables (orientations and translations).\n",
        "*   `initialize(graph, initialGuess)`: Corrects only the orientation part of a given `initialGuess` using LAGO.\n",
        "\n",
        "LAGO typically assumes the graph contains a spanning tree of odometry measurements and a prior on the starting pose."
      ]
    },
    {
      "cell_type": "markdown",
      "metadata": {
        "id": "colab_badge_md"
      },
      "source": [
        "<a href=\"https://colab.research.google.com/github/borglab/gtsam/blob/develop/gtsam/slam/doc/lago.ipynb\" target=\"_parent\"><img src=\"https://colab.research.google.com/assets/colab-badge.svg\" alt=\"Open In Colab\"/></a>"
      ]
    },
    {
      "cell_type": "code",
      "execution_count": null,
      "metadata": {
        "id": "pip_code",
        "tags": [
          "remove-cell"
        ]
      },
      "outputs": [],
      "source": [
        "%pip install --quiet gtsam"
      ]
    },
    {
      "cell_type": "code",
      "execution_count": 2,
      "metadata": {
        "id": "imports_code"
      },
      "outputs": [],
      "source": [
        "import gtsam\n",
        "import gtsam.utils.plot as gtsam_plot\n",
        "import matplotlib.pyplot as plt\n",
        "import numpy as np\n",
        "from gtsam import NonlinearFactorGraph, Values, Pose2, Point3, PriorFactorPose2, BetweenFactorPose2\n",
        "from gtsam import lago\n",
        "from gtsam import symbol_shorthand\n",
        "\n",
        "X = symbol_shorthand.X"
      ]
    },
    {
      "cell_type": "markdown",
      "metadata": {
        "id": "example_header_md"
      },
      "source": [
        "## Example Initialization"
      ]
    },
    {
      "cell_type": "markdown",
      "metadata": {
        "id": "example_desc_md"
      },
      "source": [
        "We'll create a simple 2D pose graph with odometry and a loop closure, then use `lago.initialize`."
      ]
    },
    {
      "cell_type": "code",
      "execution_count": 3,
      "metadata": {
        "id": "example_pipeline_code"
      },
      "outputs": [
        {
          "name": "stdout",
          "output_type": "stream",
          "text": [
            "Original Factor Graph:\n",
            "size: 6\n",
            "\n",
            "Factor 0: PriorFactor on x0\n",
            "  prior mean:  (0, 0, 0)\n",
            "  noise model: diagonal sigmas [0.1; 0.1; 0.05];\n",
            "\n",
            "Factor 1: BetweenFactor(x0,x1)\n",
            "  measured:  (2, 0, 0)\n",
            "  noise model: diagonal sigmas [0.2; 0.2; 0.1];\n",
            "\n",
            "Factor 2: BetweenFactor(x1,x2)\n",
            "  measured:  (2, 0, 1.57079633)\n",
            "  noise model: diagonal sigmas [0.2; 0.2; 0.1];\n",
            "\n",
            "Factor 3: BetweenFactor(x2,x3)\n",
            "  measured:  (2, 0, 1.57079633)\n",
            "  noise model: diagonal sigmas [0.2; 0.2; 0.1];\n"
          ]
        },
        {
          "name": "stdout",
          "output_type": "stream",
          "text": [
            "\n",
            "Factor 4: BetweenFactor(x3,x4)\n",
            "  measured:  (2, 0, 1.57079633)\n",
            "  noise model: diagonal sigmas [0.2; 0.2; 0.1];\n",
            "\n",
            "Factor 5: BetweenFactor(x4,x0)\n",
            "  measured:  (2.1, 0.1, 1.62079633)\n",
            "  noise model: diagonal sigmas [0.25; 0.25; 0.15];\n",
            "\n"
          ]
        },
        {
          "ename": "IndexError",
          "evalue": "invalid map<K, T> key",
          "output_type": "error",
          "traceback": [
            "\u001b[1;31m---------------------------------------------------------------------------\u001b[0m",
            "\u001b[1;31mIndexError\u001b[0m                                Traceback (most recent call last)",
            "Cell \u001b[1;32mIn[3], line 25\u001b[0m\n\u001b[0;32m     22\u001b[0m graph\u001b[38;5;241m.\u001b[39mprint(\u001b[38;5;124m\"\u001b[39m\u001b[38;5;124mOriginal Factor Graph:\u001b[39m\u001b[38;5;130;01m\\n\u001b[39;00m\u001b[38;5;124m\"\u001b[39m)\n\u001b[0;32m     24\u001b[0m \u001b[38;5;66;03m# 2. Perform LAGO initialization\u001b[39;00m\n\u001b[1;32m---> 25\u001b[0m initial_estimate_lago \u001b[38;5;241m=\u001b[39m \u001b[43mlago\u001b[49m\u001b[38;5;241;43m.\u001b[39;49m\u001b[43minitialize\u001b[49m\u001b[43m(\u001b[49m\u001b[43mgraph\u001b[49m\u001b[43m)\u001b[49m\n\u001b[0;32m     27\u001b[0m \u001b[38;5;28mprint\u001b[39m(\u001b[38;5;124m\"\u001b[39m\u001b[38;5;130;01m\\n\u001b[39;00m\u001b[38;5;124mInitial Estimate from LAGO:\u001b[39m\u001b[38;5;130;01m\\n\u001b[39;00m\u001b[38;5;124m\"\u001b[39m)\n\u001b[0;32m     28\u001b[0m initial_estimate_lago\u001b[38;5;241m.\u001b[39mprint()\n",
            "\u001b[1;31mIndexError\u001b[0m: invalid map<K, T> key"
          ]
        }
      ],
      "source": [
        "# 1. Create a NonlinearFactorGraph with Pose2 factors\n",
        "graph = NonlinearFactorGraph()\n",
        "\n",
        "# Add a prior on the first pose\n",
        "prior_mean = Pose2(0.0, 0.0, 0.0)\n",
        "prior_noise = gtsam.noiseModel.Diagonal.Sigmas(np.array([0.1, 0.1, 0.05]))\n",
        "graph.add(PriorFactorPose2(X(0), prior_mean, prior_noise))\n",
        "\n",
        "# Add odometry factors (simulating moving in a square)\n",
        "odometry_noise = gtsam.noiseModel.Diagonal.Sigmas(np.array([0.2, 0.2, 0.1]))\n",
        "graph.add(BetweenFactorPose2(X(0), X(1), Pose2(2.0, 0.0, 0.0), odometry_noise))\n",
        "graph.add(BetweenFactorPose2(X(1), X(2), Pose2(2.0, 0.0, np.pi/2), odometry_noise))\n",
        "graph.add(BetweenFactorPose2(X(2), X(3), Pose2(2.0, 0.0, np.pi/2), odometry_noise))\n",
        "graph.add(BetweenFactorPose2(X(3), X(4), Pose2(2.0, 0.0, np.pi/2), odometry_noise))\n",
        "\n",
        "# Add a loop closure factor\n",
        "loop_noise = gtsam.noiseModel.Diagonal.Sigmas(np.array([0.25, 0.25, 0.15]))\n",
        "# Ideal loop closure would be Pose2(2.0, 0.0, np.pi/2)\n",
        "measured_loop = Pose2(2.1, 0.1, np.pi/2 + 0.05)\n",
        "graph.add(BetweenFactorPose2(X(4), X(0), measured_loop, loop_noise))\n",
        "\n",
        "graph.print(\"Original Factor Graph:\\n\")\n",
        "\n",
        "# 2. Perform LAGO initialization\n",
        "initial_estimate_lago = lago.initialize(graph)\n",
        "\n",
        "print(\"\\nInitial Estimate from LAGO:\\n\")\n",
        "initial_estimate_lago.print()\n",
        "\n",
        "# 3. Visualize the LAGO estimate (optional)\n",
        "plt.figure(1)\n",
        "for key in initial_estimate_lago.keys():\n",
        "    gtsam_plot.plot_pose2(1, initial_estimate_lago.atPose2(key), 0.5)\n",
        "plt.title(\"LAGO Initial Estimate\")\n",
        "plt.axis('equal')\n",
        "# plt.show()\n",
        "plt.close() # Close plot to prevent display in output\n",
        "\n",
        "# 4. Compare orientation initialization\n",
        "initial_orientations = lago.initializeOrientations(graph)\n",
        "print(\"\\nLAGO Orientations (VectorValues):\")\n",
        "initial_orientations.print()\n",
        "\n",
        "print(\"Orientations from full LAGO Values:\")\n",
        "for i in range(5):\n",
        "    print(f\"  X({i}): {initial_estimate_lago.atPose2(X(i)).theta():.4f}\")"
      ]
    },
    {
      "cell_type": "markdown",
      "metadata": {
        "id": "notes_header_md"
      },
      "source": [
        "## Notes"
      ]
    },
    {
      "cell_type": "markdown",
      "metadata": {
        "id": "notes_desc_md"
      },
      "source": [
        "- LAGO provides a good initial guess, especially for orientations, which can significantly help the convergence of nonlinear optimizers.\n",
        "- It assumes the graph structure allows for the orientation estimation (typically requires a spanning tree and a prior).\n",
        "- The translation estimates are computed based on the fixed, estimated orientations."
      ]
    }
  ],
  "metadata": {
    "kernelspec": {
      "display_name": "gtsam",
      "language": "python",
      "name": "python3"
    },
    "language_info": {
      "codemirror_mode": {
        "name": "ipython",
        "version": 3
      },
      "file_extension": ".py",
      "mimetype": "text/x-python",
      "name": "python",
      "nbconvert_exporter": "python",
      "pygments_lexer": "ipython3",
      "version": "3.13.1"
    }
  },
  "nbformat": 4,
  "nbformat_minor": 0
}
