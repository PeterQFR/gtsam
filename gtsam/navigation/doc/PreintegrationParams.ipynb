{
 "cells": [
  {
   "cell_type": "markdown",
   "metadata": {},
   "source": [
    "# PreintegrationParams\n",
    "\n",
    "The `PreintegrationParams` class extends `PreintegratedRotationParams` to provide a complete configuration for IMU preintegration, including accelerometer measurements:\n",
    "\n",
    "| Parameter | Description |\n",
    "|-----------|-------------|\n",
    "| `accelerometerCovariance` | 3×3 continuous-time noise covariance matrix for accelerometer measurements (units: m²/s⁴/Hz) |\n",
    "| `integrationCovariance` | 3×3 covariance matrix representing additional uncertainty during integration |\n",
    "| `use2ndOrderCoriolis` | Boolean flag to enable more accurate Coriolis effect compensation |\n",
    "| `n_gravity` | Gravity vector in the navigation frame (units: m/s²) |\n",
    "\n",
    "## Convenience API\n",
    "\n",
    "The class provides convenient factory methods for the two most common navigation frame conventions:\n",
    "- `MakeSharedD()`: Creates parameters for a Z-down frame (like NED - North-East-Down)\n",
    "- `MakeSharedU()`: Creates parameters for a Z-up frame (like ENU - East-North-Up)\n",
    "\n",
    "Both methods also take a [local gravity constant](https://www.sensorsone.com/local-gravity-calculator/), which decreases as one gets closer to the equator. The default is $9.81m/s^2$."
   ]
  },
  {
   "cell_type": "markdown",
   "metadata": {},
   "source": [
    "## Detailed API\n",
    "\n",
    "- The constructor requires the navigation frame gravity vector as an argument.\n",
    "\n",
    "### Setters\n",
    "- `setGyroscopeCovariance`: Sets the 3×3 continuous-time noise covariance matrix for gyroscope measurements.\n",
    "- `setOmegaCoriolis`: Sets an optional Coriolis acceleration compensation vector.\n",
    "- `setBodyPSensor`: Sets an optional pose transformation between the body frame and the sensor frame.\n",
    "- `setAccelerometerCovariance`: Sets the accelerometer covariance matrix.\n",
    "- `setIntegrationCovariance`: Sets the integration covariance matrix.\n",
    "- `setUse2ndOrderCoriolis`: Sets the flag controlling the use of second order Coriolis compensation.\n",
    "\n",
    "### Getters\n",
    "- `getGyroscopeCovariance`: Returns the gyroscope covariance matrix.\n",
    "- `getOmegaCoriolis`: Returns the optional Coriolis acceleration vector.\n",
    "- `getBodyPSensor`: Returns the optional body-to-sensor pose transformation.\n",
    "- `getAccelerometerCovariance`: Returns the current accelerometer covariance matrix.\n",
    "- `getIntegrationCovariance`: Returns the current integration covariance matrix.\n",
    "- `getGravity`: Returns the navigation frame gravity vector.\n",
    "- `isUsing2ndOrderCoriolis`: Returns the status of the second order Coriolis flag."
   ]
  },
  {
   "cell_type": "markdown",
   "metadata": {},
   "source": [
    "## Source\n",
    "- [PreintegrationParams.h](https://github.com/borglab/gtsam/blob/develop/gtsam/navigation/PreintegrationParams.h)\n",
    "- [PreintegrationParams.cpp](https://github.com/borglab/gtsam/blob/develop/gtsam/navigation/PreintegrationParams.cpp)"
   ]
  }
 ],
 "metadata": {
  "language_info": {
   "name": "python"
  }
 },
 "nbformat": 4,
 "nbformat_minor": 2
}
