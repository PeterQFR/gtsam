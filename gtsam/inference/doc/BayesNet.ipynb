{
    "cells": [
      {
        "cell_type": "markdown",
        "metadata": {
          "id": "bayesnet_intro_md"
        },
        "source": [
          "# BayesNet"
        ]
      },
      {
        "cell_type": "markdown",
        "metadata": {
          "id": "bayesnet_desc_md"
        },
        "source": [
          "A `BayesNet` in GTSAM represents a directed graphical model, specifically the result of running sequential variable elimination (like Cholesky or QR factorization) on a `FactorGraph`.\n",
          "\n",
          "It is essentially a collection of `Conditional` objects, ordered according to the elimination order. Each conditional represents $P(\text{variable} | \text{parents})$, where the parents are variables that appear later in the elimination ordering.\n",
          "\n",
          "Like `FactorGraph`, `BayesNet` is templated on the type of conditional it stores (e.g., `GaussianBayesNet`, `DiscreteBayesNet`)."
        ]
      },
      {
        "cell_type": "markdown",
        "metadata": {
          "id": "bayesnet_colab_md"
        },
        "source": [
          "<a href=\"https://colab.research.google.com/github/borglab/gtsam/blob/develop/gtsam/inference/doc/BayesNet.ipynb\" target=\"_parent\"><img src=\"https://colab.research.google.com/assets/colab-badge.svg\" alt=\"Open In Colab\"/></a>"
        ]
      },
      {
        "cell_type": "code",
        "execution_count": null,
        "metadata": {
          "id": "bayesnet_pip_code"
        },
        "outputs": [],
        "source": [
          "%pip install gtsam"
        ]
      },
      {
        "cell_type": "code",
        "execution_count": null,
        "metadata": {
          "id": "bayesnet_import_code"
        },
        "outputs": [],
        "source": [
          "import gtsam\n",
          "import numpy as np\n",
          "\n",
          "# We need concrete graph types and elimination to get a BayesNet\n",
          "from gtsam import GaussianFactorGraph, Ordering, GaussianBayesNet\n",
          "from gtsam import symbol_shorthand\n",
          "\n",
          "X = symbol_shorthand.X\n",
          "L = symbol_shorthand.L"
        ]
      },
      {
        "cell_type": "markdown",
        "metadata": {
          "id": "bayesnet_create_md"
        },
        "source": [
          "## Creating a BayesNet (via Elimination)\n",
          "\n",
          "BayesNets are typically obtained by eliminating a `FactorGraph`."
        ]
      },
      {
        "cell_type": "code",
        "execution_count": null,
        "metadata": {
          "id": "bayesnet_eliminate_code",
          "colab": {
            "base_uri": "https://localhost:8080/"
          },
          "outputId": "01234567-89ab-cdef-0123-456789abcdef"
        },
        "outputs": [
          {
            "name": "stdout",
            "output_type": "stream",
            "text": [
              "Original Factor Graph: size 3\n",
              "Factor 0: JacobianFactor(keys = [8070450532247928832], Z = [ -1 ], b = [ 0 ], model = diagonal sigmas [1])\n",
              "Factor 1: JacobianFactor(keys = [8070450532247928832; 8070450532247928833], A[0] = [ -1  1 ], b = [ 0 ], model = diagonal sigmas [1])\n",
              "Factor 2: JacobianFactor(keys = [8070450532247928833; 8070450532247928834], A[0] = [ -1  1 ], b = [ 0 ], model = diagonal sigmas [1])\n",
              "\n",
              "\n",
              "Resulting BayesNet: size 3\n",
              "Conditional 0: GaussianConditional( P(x0 | x1) = dx0 - R*dx1 - d), R = [ 0.5 ], d = [ 0 ], sigmas = [ 0.707107 ])\n",
              "Conditional 1: GaussianConditional( P(x1 | x2) = dx1 - R*dx2 - d), R = [ 0.666667 ], d = [ 0 ], sigmas = [ 0.816497 ])\n",
              "Conditional 2: GaussianConditional( P(x2) = dx2 - d), d = [ 0 ], sigmas = [ 0.866025 ])\n",
              "\n"
            ]
          }
        ],
        "source": [
          "# Create a simple Gaussian Factor Graph P(x0) P(x1|x0) P(x2|x1)\n",
          "graph = GaussianFactorGraph()\n",
          "model = gtsam.noiseModel.Isotropic.Sigma(1, 1.0)\n",
          "graph.add(X(0), -np.eye(1), np.zeros(1), model)\n",
          "graph.add(X(0), -np.eye(1), X(1), np.eye(1), np.zeros(1), model)\n",
          "graph.add(X(1), -np.eye(1), X(2), np.eye(1), np.zeros(1), model)\n",
          "print(\"Original Factor Graph:\")\n",
          "graph.print()\n",
          "\n",
          "# Eliminate sequentially using a specific ordering\n",
          "ordering = Ordering([X(0), X(1), X(2)])\n",
          "bayes_net = graph.eliminateSequential(ordering)\n",
          "\n",
          "print(\"\\nResulting BayesNet:\")\n",
          "bayes_net.print()"
        ]
      },
      {
        "cell_type": "markdown",
        "metadata": {
          "id": "bayesnet_props_md"
        },
        "source": [
          "## Properties and Access\n",
          "\n",
          "A `BayesNet` provides access to its constituent conditionals and basic properties."
        ]
      },
      {
        "cell_type": "code",
        "execution_count": null,
        "metadata": {
          "id": "bayesnet_access_code",
          "colab": {
            "base_uri": "https://localhost:8080/"
          },
          "outputId": "12345678-9abc-def0-1234-56789abcdef0"
        },
        "outputs": [
          {
            "name": "stdout",
            "output_type": "stream",
            "text": [
              "BayesNet size: 3\n",
              "Is BayesNet empty? False\n",
              "Conditional at index 1: \n",
              "GaussianConditional( P(x1 | x2) = dx1 - R*dx2 - d), R = [ 0.666667 ], d = [ 0 ], sigmas = [ 0.816497 ])\n",
              "\n",
              "Keys in BayesNet: {8070450532247928832, 8070450532247928833, 8070450532247928834}\n"
            ]
          }
        ],
        "source": [
          "print(f\"BayesNet size: {bayes_net.size()}\")\n",
          "print(f\"Is BayesNet empty? {bayes_net.empty()}\")\n",
          "\n",
          "# Access conditional by index\n",
          "conditional1 = bayes_net.at(1)\n",
          "print(\"Conditional at index 1: \")\n",
          "conditional1.print()\n",
          "\n",
          "# Get all keys involved\n",
          "bn_keys = bayes_net.keys()\n",
          "print(f\"Keys in BayesNet: {bn_keys}\")\n",
          "\n",
          "# Iterate through conditionals\n",
          "# for i, conditional in enumerate(bayes_net):\n",
          "#     if conditional:\n",
          "#         print(f\"Conditional {i} Frontals: {conditional.frontals()}, Parents: {conditional.parents()}\")"
        ]
      },
      {
        "cell_type": "markdown",
        "metadata": {
          "id": "bayesnet_eval_md"
        },
        "source": [
          "## Evaluation and Solution\n",
          "\n",
          "The `logProbability(Values)` method computes the log probability of a variable assignment given the conditional distributions in the Bayes net. For Gaussian Bayes nets, the `optimize()` method can be used to find the maximum likelihood estimate (MLE) solution via back-substitution."
        ]
      },
      {
        "cell_type": "code",
        "execution_count": null,
        "metadata": {
          "id": "bayesnet_eval_code",
          "colab": {
            "base_uri": "https://localhost:8080/"
          },
          "outputId": "23456789-abcd-ef01-2345-6789abcdef01"
        },
        "outputs": [
          {
            "name": "stdout",
            "output_type": "stream",
            "text": [
              "Log Probability at [0,0,0]: -2.756815765004782\n",
              "Optimized Solution (MLE):\n",
              "Values with 3 values:\n",
              "Value x0: [0.]\n",
              "Value x1: [0.]\n",
              "Value x2: [0.]\n",
              "\n"
            ]
          }
        ],
        "source": [
          "# For GaussianBayesNet, we use VectorValues\n",
          "mle_solution = bayes_net.optimize()\n",
          "\n",
          "# Calculate log probability (requires providing values for all variables)\n",
          "log_prob = bayes_net.logProbability(mle_solution)\n",
          "print(f\"Log Probability at {mle_solution.at(X(0))[0]:.0f},{mle_solution.at(X(1))[0]:.0f},{mle_solution.at(X(2))[0]:.0f}]: {log_prob}\")\n",
          "\n",
          "print(\"Optimized Solution (MLE):\")\n",
          "mle_solution.print()"
        ]
      },
      {
        "cell_type": "markdown",
        "metadata": {
          "id": "bayesnet_viz_md"
        },
        "source": [
          "## Visualization\n",
          "\n",
          "Bayes nets can also be visualized using Graphviz."
        ]
      },
      {
        "cell_type": "code",
        "execution_count": null,
        "metadata": {
          "id": "bayesnet_dot_code",
          "colab": {
            "base_uri": "https://localhost:8080/"
          },
          "outputId": "3456789a-bcde-f012-3456-789abcdef012"
        },
        "outputs": [
          {
            "name": "stdout",
            "output_type": "stream",
            "text": [
              "digraph {\n",
              "  size=\"5,5\";\n",
              "\n",
              "  var8070450532247928832[label=\"x0\"];\n",
              "  var8070450532247928833[label=\"x1\"];\n",
              "  var8070450532247928834[label=\"x2\"];\n",
              "\n",
              "  var8070450532247928834->var8070450532247928833\n",
              "  var8070450532247928833->var8070450532247928832\n",
              "}\n"
            ]
          }
        ],
        "source": [
          "dot_string = bayes_net.dot()\n",
          "print(dot_string)\n",
          "\n",
          "# To render:\n",
          "# dot -Tpng bayesnet.dot -o bayesnet.png\n",
          "# import graphviz\n",
          "# graphviz.Source(dot_string)"
        ]
      }
    ],
    "metadata": {
      "colab": {
        "provenance": []
      },
      "kernelspec": {
        "display_name": "Python 3",
        "name": "python3"
      },
      "language_info": {
        "name": "python"
      }
    },
    "nbformat": 4,
    "nbformat_minor": 0
  }