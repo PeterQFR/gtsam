{
    "cells": [
      {
        "cell_type": "markdown",
        "metadata": {
          "id": "fg_intro_md"
        },
        "source": [
          "# FactorGraph"
        ]
      },
      {
        "cell_type": "markdown",
        "metadata": {
          "id": "fg_desc_md"
        },
        "source": [
          "A `FactorGraph` represents a factor graph, a bipartite graph connecting variables and factors. In GTSAM, the `FactorGraph` class (and its templated instantiations like `GaussianFactorGraph`, `NonlinearFactorGraph`, etc.) primarily stores a collection of factors.\n",
          "\n",
          "This class serves as the base for different types of factor graphs. You typically work with specific instantiations like `gtsam.GaussianFactorGraph` or `gtsam.NonlinearFactorGraph`."
        ]
      },
      {
        "cell_type": "markdown",
        "metadata": {
          "id": "fg_colab_md"
        },
        "source": [
          "<a href=\"https://colab.research.google.com/github/borglab/gtsam/blob/develop/gtsam/inference/doc/FactorGraph.ipynb\" target=\"_parent\"><img src=\"https://colab.research.google.com/assets/colab-badge.svg\" alt=\"Open In Colab\"/></a>"
        ]
      },
      {
        "cell_type": "code",
        "execution_count": null,
        "metadata": {
          "id": "fg_pip_code"
        },
        "outputs": [],
        "source": [
          "%pip install gtsam"
        ]
      },
      {
        "cell_type": "code",
        "execution_count": null,
        "metadata": {
          "id": "fg_import_code"
        },
        "outputs": [],
        "source": [
          "import gtsam\n",
          "import numpy as np\n",
          "\n",
          "# Example uses NonlinearFactorGraph, but concepts apply to others\n",
          "from gtsam import NonlinearFactorGraph, PriorFactorPose2, BetweenFactorPose2, Pose2, Point3\n",
          "from gtsam import symbol_shorthand\n",
          "\n",
          "X = symbol_shorthand.X"
        ]
      },
      {
        "cell_type": "markdown",
        "metadata": {
          "id": "fg_init_md"
        },
        "source": [
          "## Initialization and Adding Factors\n",
          "\n",
          "A `FactorGraph` is typically created empty and factors are added individually or from containers."
        ]
      },
      {
        "cell_type": "code",
        "execution_count": null,
        "metadata": {
          "id": "fg_create_code",
          "colab": {
            "base_uri": "https://localhost:8080/"
          },
          "outputId": "23456789-abcd-ef01-2345-6789abcdef01"
        },
        "outputs": [
          {
            "name": "stdout",
            "output_type": "stream",
            "text": [
              "Graph size after adding factors: 3\n"
            ]
          }
        ],
        "source": [
          "graph = NonlinearFactorGraph()\n",
          "\n",
          "# Define noise models\n",
          "prior_noise = gtsam.noiseModel.Diagonal.Sigmas(Point3(0.1, 0.1, 0.05))\n",
          "odometry_noise = gtsam.noiseModel.Diagonal.Sigmas(Point3(0.2, 0.2, 0.1))\n",
          "\n",
          "# Create factors\n",
          "factor1 = PriorFactorPose2(X(0), Pose2(0, 0, 0), prior_noise)\n",
          "factor2 = BetweenFactorPose2(X(0), X(1), Pose2(1, 0, 0), odometry_noise)\n",
          "factor3 = BetweenFactorPose2(X(1), X(2), Pose2(1, 0, 0), odometry_noise)\n",
          "\n",
          "# Add factors to the graph\n",
          "graph.add(factor1)  # add is synonym for push_back\n",
          "graph.push_back(factor2)\n",
          "\n",
          "# Can also add using += or ,\n",
          "graph += factor3\n",
          "# graph += factor2, factor3 # Chaining also works\n",
          "\n",
          "print(f\"Graph size after adding factors: {graph.size()}\")"
        ]
      },
      {
        "cell_type": "markdown",
        "metadata": {
          "id": "fg_access_md"
        },
        "source": [
          "## Accessing Factors and Properties"
        ]
      },
      {
        "cell_type": "code",
        "execution_count": null,
        "metadata": {
          "id": "fg_access_code",
          "colab": {
            "base_uri": "https://localhost:8080/"
          },
          "outputId": "3456789a-bcde-f012-3456-789abcdef012"
        },
        "outputs": [
          {
            "name": "stdout",
            "output_type": "stream",
            "text": [
              "Is graph empty? False\n",
              "Number of factors (size): 3\n",
              "Number of non-null factors (nrFactors): 3\n",
              "Factor at index 1: \n",
              "BetweenFactor on 8070450532247928832 8070450532247928833\n",
              "  measured: (1, 0, 0)\n",
              "  noise model: diagonal sigmas [0.2; 0.2; 0.1]\n",
              "\n",
              "Keys involved in the graph: {8070450532247928832, 8070450532247928833, 8070450532247928834}\n"
            ]
          }
        ],
        "source": [
          "print(f\"Is graph empty? {graph.empty()}\")\n",
          "print(f\"Number of factors (size): {graph.size()}\")\n",
          "print(f\"Number of non-null factors (nrFactors): {graph.nrFactors()}\") # Useful if factors were removed\n",
          "\n",
          "# Access factor by index\n",
          "retrieved_factor = graph.at(1)\n",
          "print(\"Factor at index 1: \")\n",
          "retrieved_factor.print()\n",
          "\n",
          "# Get all unique keys involved in the graph\n",
          "all_keys = graph.keys() # Returns a KeySet\n",
          "print(f\"Keys involved in the graph: {all_keys}\")\n",
          "\n",
          "# Iterate through factors\n",
          "# for i, factor in enumerate(graph):\n",
          "#     if factor:\n",
          "#         print(f\"Factor {i} keys: {factor.keys()}\")"
        ]
      },
      {
        "cell_type": "markdown",
        "metadata": {
          "id": "fg_error_md"
        },
        "source": [
          "## Graph Error\n",
          "\n",
          "The `error(Values)` method calculates the total error of the graph for a given assignment of variable values. This is the sum of the errors from each individual factor."
        ]
      },
      {
        "cell_type": "code",
        "execution_count": null,
        "metadata": {
          "id": "fg_error_code",
          "colab": {
            "base_uri": "https://localhost:8080/"
          },
          "outputId": "456789ab-cdef-0123-4567-89abcdef0123"
        },
        "outputs": [
          {
            "name": "stdout",
            "output_type": "stream",
            "text": [
              "Total graph error at ground truth: 0.0\n",
              "Total graph error with incorrect x2: 50.0\n"
            ]
          }
        ],
        "source": [
          "values = gtsam.Values()\n",
          "values.insert(X(0), Pose2(0, 0, 0))\n",
          "values.insert(X(1), Pose2(1, 0, 0))\n",
          "values.insert(X(2), Pose2(2, 0, 0))\n",
          "\n",
          "total_error1 = graph.error(values)\n",
          "print(f\"Total graph error at ground truth: {total_error1}\")\n",
          "\n",
          "# Introduce an error\n",
          "values.update(X(2), Pose2(1, 0, 0))\n",
          "total_error2 = graph.error(values)\n",
          "print(f\"Total graph error with incorrect x2: {total_error2:.1f}\")"
        ]
      },
      {
        "cell_type": "markdown",
        "metadata": {
          "id": "fg_viz_md"
        },
        "source": [
          "## Graph Visualization\n",
          "\n",
          "Factor graphs can be visualized using Graphviz via the `dot()` method."
        ]
      },
      {
        "cell_type": "code",
        "execution_count": null,
        "metadata": {
          "id": "fg_dot_code",
          "colab": {
            "base_uri": "https://localhost:8080/"
          },
          "outputId": "56789abc-def0-1234-5678-9abcdef01234"
        },
        "outputs": [
          {
            "name": "stdout",
            "output_type": "stream",
            "text": [
              "graph {\n",
              "  size=\"5,5\";\n",
              "\n",
              "  var8070450532247928832[label=\"x0\"];\n",
              "  var8070450532247928833[label=\"x1\"];\n",
              "  var8070450532247928834[label=\"x2\"];\n",
              "\n",
              "  factor0[label=\"\", shape=point];\n",
              "  var8070450532247928832--factor0;\n",
              "  factor1[label=\"\", shape=point];\n",
              "  var8070450532247928832--factor1;\n",
              "  var8070450532247928833--factor1;\n",
              "  factor2[label=\"\", shape=point];\n",
              "  var8070450532247928833--factor2;\n",
              "  var8070450532247928834--factor2;\n",
              "}\n"
            ]
          }
        ],
        "source": [
          "dot_string = graph.dot()\n",
          "print(dot_string)\n",
          "\n",
          "# To render, save dot_string to a file (e.g., graph.dot) and run:\n",
          "# dot -Tpng graph.dot -o graph.png\n",
          "# Or use a Python library like graphviz\n",
          "# import graphviz\n",
          "# graphviz.Source(dot_string)"
        ]
      },
      {
        "cell_type": "markdown",
        "metadata": {
          "id": "fg_elim_md"
        },
        "source": [
          "## Elimination\n",
          "\n",
          "A key purpose of factor graphs is inference via variable elimination. `FactorGraph` itself doesn't perform elimination, but its derived classes (like `GaussianFactorGraph`, `SymbolicFactorGraph`) inherit `eliminateSequential` and `eliminateMultifrontal` methods from `EliminateableFactorGraph`."
        ]
      }
    ],
    "metadata": {
      "colab": {
        "provenance": []
      },
      "kernelspec": {
        "display_name": "Python 3",
        "name": "python3"
      },
      "language_info": {
        "name": "python"
      }
    },
    "nbformat": 4,
    "nbformat_minor": 0
  }