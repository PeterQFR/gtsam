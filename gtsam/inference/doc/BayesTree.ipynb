{
  "cells": [
    {
      "cell_type": "markdown",
      "metadata": {
        "id": "bayestree_intro_md"
      },
      "source": [
        "# BayesTree"
      ]
    },
    {
      "cell_type": "markdown",
      "metadata": {
        "id": "bayestree_desc_md"
      },
      "source": [
        "A `BayesTree` is a graphical model that represents the result of multifrontal variable elimination on a `FactorGraph`. It is a tree structure where each node is a 'clique' containing a set of conditional distributions $P(\text{Frontals} | \text{Separator})$.\n",
        "\n",
        "Each clique k contains a conditional $P(F_k∣S_k)$, where $F_k$ are frontal variables and $S_k$ are separator variables. The joint probability distribution encoded by the Bayes tree is given by the product of all clique conditionals:\n",
        "\n",
        "$$\n",
        "P(X) = \\prod_k P(F_k | S_k)\n",
        "$$\n",
        "Alternatively, it can be expressed using clique $P(C_k) = P(F_k, S_k)$ and separator $P(S_k)$ marginals (though GTSAM stores conditionals):\n",
        "$$\n",
        "P(X) = \\frac{\\prod_{\\text{cliques } k} P(C_k)}{\\prod_{\\text{separators } S} P(S)^{\\nu(S)-1}}\n",
        "$$\n",
        "where $\\nu(S)$ is the number of cliques containing the separator $S$. The first formula $P(X) = \\prod_k P(F_k | S_k)$ is more directly related to the GTSAM `BayesTree` structure.\n",
        "\n",
        "Key properties:\n",
        "*   **Cliques:** Each node (clique) groups variables that are eliminated together.\n",
        "*   **Frontal Variables:** Variables eliminated within a specific clique.\n",
        "*   **Separator Variables:** Variables shared between a clique and its parent in the tree. These variables were eliminated higher up in the tree.\n",
        "*   **Tree Structure:** Represents the dependencies introduced during elimination more compactly than a Bayes net, especially for sparse problems.\n",
        "\n",
        "Like `FactorGraph` and `BayesNet`, `BayesTree` is templated on the type of conditional/clique (e.g., `GaussianBayesTree`)."
      ]
    },
    {
      "cell_type": "markdown",
      "metadata": {
        "id": "bayestree_colab_md"
      },
      "source": [
        "<a href=\"https://colab.research.google.com/github/borglab/gtsam/blob/develop/gtsam/inference/doc/BayesTree.ipynb\" target=\"_parent\"><img src=\"https://colab.research.google.com/assets/colab-badge.svg\" alt=\"Open In Colab\"/></a>"
      ]
    },
    {
      "cell_type": "code",
      "execution_count": 1,
      "metadata": {
        "id": "bayestree_pip_code"
      },
      "outputs": [
        {
          "name": "stdout",
          "output_type": "stream",
          "text": [
            "Requirement already satisfied: gtsam in c:\\users\\porte\\miniconda3\\envs\\gtsam\\lib\\site-packages (4.3a0)Note: you may need to restart the kernel to use updated packages.\n",
            "\n",
            "Requirement already satisfied: numpy>=1.11.0 in c:\\users\\porte\\miniconda3\\envs\\gtsam\\lib\\site-packages (from gtsam) (2.2.1)\n"
          ]
        }
      ],
      "source": [
        "%pip install gtsam"
      ]
    },
    {
      "cell_type": "code",
      "execution_count": 2,
      "metadata": {
        "id": "bayestree_import_code"
      },
      "outputs": [],
      "source": [
        "import gtsam\n",
        "import numpy as np\n",
        "\n",
        "# We need concrete graph types and elimination to get a BayesTree\n",
        "from gtsam import GaussianFactorGraph, Ordering, GaussianBayesTree, VariableIndex\n",
        "from gtsam import symbol_shorthand\n",
        "\n",
        "X = symbol_shorthand.X\n",
        "L = symbol_shorthand.L"
      ]
    },
    {
      "cell_type": "markdown",
      "metadata": {
        "id": "bayestree_create_md"
      },
      "source": [
        "## Creating a BayesTree (via Elimination)\n",
        "\n",
        "BayesTrees are typically obtained by performing multifrontal elimination on a `FactorGraph`."
      ]
    },
    {
      "cell_type": "code",
      "execution_count": 3,
      "metadata": {
        "colab": {
          "base_uri": "https://localhost:8080/"
        },
        "id": "bayestree_eliminate_code",
        "outputId": "456789ab-cdef-0123-4567-89abcdef0123"
      },
      "outputs": [
        {
          "name": "stdout",
          "output_type": "stream",
          "text": [
            "Original Factor Graph:\n",
            "\n",
            "size: 7\n",
            "factor 0: \n",
            "  A[x0] = [\n",
            "\t-1\n",
            "]\n",
            "  b = [ 0 ]\n",
            "  Noise model: unit (1) \n",
            "factor 1: \n",
            "  A[x0] = [\n",
            "\t-1\n",
            "]\n",
            "  A[x1] = [\n",
            "\t1\n",
            "]\n",
            "  b = [ 0 ]\n",
            "  Noise model: unit (1) \n",
            "factor 2: \n",
            "  A[x1] = [\n",
            "\t-1\n",
            "]\n",
            "  A[x2] = [\n",
            "\t1\n",
            "]\n",
            "  b = [ 0 ]\n",
            "  Noise model: unit (1) \n",
            "factor 3: \n",
            "  A[l1] = [\n",
            "\t-1\n",
            "]\n",
            "  A[x0] = [\n",
            "\t1\n",
            "]\n",
            "  b = [ 0 ]\n",
            "  Noise model: unit (1) \n",
            "factor 4: \n",
            "  A[l1] = [\n",
            "\t-1\n",
            "]\n",
            "  A[x1] = [\n",
            "\t1\n",
            "]\n",
            "  b = [ 0 ]\n",
            "  Noise model: unit (1) \n",
            "factor 5: \n",
            "  A[l2] = [\n",
            "\t-1\n",
            "]\n",
            "  A[x1] = [\n",
            "\t1\n",
            "]\n",
            "  b = [ 0 ]\n",
            "  Noise model: unit (1) \n",
            "factor 6: \n",
            "  A[l2] = [\n",
            "\t-1\n",
            "]\n",
            "  A[x2] = [\n",
            "\t1\n",
            "]\n",
            "  b = [ 0 ]\n",
            "  Noise model: unit (1) \n",
            "\n",
            "Resulting BayesTree:\n",
            ": cliques: 2, variables: 5\n",
            "- p(x1 l2 x2 )\n",
            "  R = [   1.61245 -0.620174 -0.620174 ]\n",
            "      [         0   1.27098  -1.08941 ]\n",
            "      [         0         0  0.654654 ]\n",
            "  d = [ 0 0 0 ]\n",
            "  mean: 3 elements\n",
            "  l2: 0\n",
            "  x1: 0\n",
            "  x2: 0\n",
            "  logNormalizationConstant: -2.46292\n",
            "  No noise model\n",
            "| - p(l1 x0  | x1)\n",
            "  R = [   1.41421 -0.707107 ]\n",
            "      [         0   1.58114 ]\n",
            "  S[x1] = [ -0.707107 ]\n",
            "          [ -0.948683 ]\n",
            "  d = [ 0 0 ]\n",
            "  logNormalizationConstant: -1.03316\n",
            "  No noise model\n"
          ]
        }
      ],
      "source": [
        "# Create a simple Gaussian Factor Graph (more complex this time)\n",
        "graph = GaussianFactorGraph()\n",
        "model = gtsam.noiseModel.Isotropic.Sigma(1, 1.0)\n",
        "graph.add(X(0), -np.eye(1), np.zeros(1), model)           # Prior on x0\n",
        "graph.add(X(0), -np.eye(1), X(1), np.eye(1), np.zeros(1), model) # x0 -> x1\n",
        "graph.add(X(1), -np.eye(1), X(2), np.eye(1), np.zeros(1), model) # x1 -> x2\n",
        "graph.add(L(1), -np.eye(1), X(0), np.eye(1), np.zeros(1), model) # l1 -> x0 (measurement)\n",
        "graph.add(L(1), -np.eye(1), X(1), np.eye(1), np.zeros(1), model) # l1 -> x1 (measurement)\n",
        "graph.add(L(2), -np.eye(1), X(1), np.eye(1), np.zeros(1), model) # l2 -> x1 (measurement)\n",
        "graph.add(L(2), -np.eye(1), X(2), np.eye(1), np.zeros(1), model) # l2 -> x2 (measurement)\n",
        "\n",
        "print(\"Original Factor Graph:\")\n",
        "graph.print()\n",
        "\n",
        "# Eliminate multifrontally using COLAMD ordering\n",
        "ordering = Ordering.Colamd(VariableIndex(graph))\n",
        "# Note: Multifrontal typically yields multiple roots if graph is disconnected\n",
        "bayes_tree = graph.eliminateMultifrontal(ordering)\n",
        "\n",
        "print(\"\\nResulting BayesTree:\")\n",
        "bayes_tree.print()"
      ]
    },
    {
      "cell_type": "markdown",
      "metadata": {
        "id": "bayestree_props_md"
      },
      "source": [
        "## Properties and Access\n",
        "\n",
        "A `BayesTree` allows access to its root cliques and provides a way to look up the clique containing a specific variable."
      ]
    },
    {
      "cell_type": "code",
      "execution_count": 4,
      "metadata": {
        "colab": {
          "base_uri": "https://localhost:8080/"
        },
        "id": "bayestree_access_code",
        "outputId": "56789abc-def0-1234-5678-9abcdef01234"
      },
      "outputs": [
        {
          "name": "stdout",
          "output_type": "stream",
          "text": [
            "BayesTree number of cliques: 2\n"
          ]
        },
        {
          "ename": "AttributeError",
          "evalue": "'gtsam.gtsam.GaussianBayesTree' object has no attribute 'roots'",
          "output_type": "error",
          "traceback": [
            "\u001b[1;31m---------------------------------------------------------------------------\u001b[0m",
            "\u001b[1;31mAttributeError\u001b[0m                            Traceback (most recent call last)",
            "Cell \u001b[1;32mIn[4], line 4\u001b[0m\n\u001b[0;32m      1\u001b[0m \u001b[38;5;28mprint\u001b[39m(\u001b[38;5;124mf\u001b[39m\u001b[38;5;124m\"\u001b[39m\u001b[38;5;124mBayesTree number of cliques: \u001b[39m\u001b[38;5;132;01m{\u001b[39;00mbayes_tree\u001b[38;5;241m.\u001b[39msize()\u001b[38;5;132;01m}\u001b[39;00m\u001b[38;5;124m\"\u001b[39m)\n\u001b[0;32m      3\u001b[0m \u001b[38;5;66;03m# Access roots\u001b[39;00m\n\u001b[1;32m----> 4\u001b[0m roots \u001b[38;5;241m=\u001b[39m \u001b[43mbayes_tree\u001b[49m\u001b[38;5;241;43m.\u001b[39;49m\u001b[43mroots\u001b[49m()\n\u001b[0;32m      5\u001b[0m \u001b[38;5;28mprint\u001b[39m(\u001b[38;5;124mf\u001b[39m\u001b[38;5;124m\"\u001b[39m\u001b[38;5;124mNumber of roots: \u001b[39m\u001b[38;5;132;01m{\u001b[39;00m\u001b[38;5;28mlen\u001b[39m(roots)\u001b[38;5;132;01m}\u001b[39;00m\u001b[38;5;124m\"\u001b[39m)\n\u001b[0;32m      6\u001b[0m \u001b[38;5;28;01mif\u001b[39;00m roots:\n\u001b[0;32m      7\u001b[0m     \u001b[38;5;66;03m# Access the conditional associated with the first root clique\u001b[39;00m\n",
            "\u001b[1;31mAttributeError\u001b[0m: 'gtsam.gtsam.GaussianBayesTree' object has no attribute 'roots'"
          ]
        }
      ],
      "source": [
        "print(f\"BayesTree number of cliques: {bayes_tree.size()}\")\n",
        "\n",
        "# Access roots\n",
        "roots = bayes_tree.roots()\n",
        "print(f\"Number of roots: {len(roots)}\")\n",
        "if roots:\n",
        "    # Access the conditional associated with the first root clique\n",
        "    root_conditional = roots[0].conditional()\n",
        "    print(f\"Root clique 0 conditional frontals: {root_conditional.frontals()}\")\n",
        "\n",
        "# Find the clique containing a specific variable\n",
        "clique_x1 = bayes_tree.clique(X(1))\n",
        "# clique_x1 is a shared pointer to the clique (e.g., GaussianBayesTreeClique)\n",
        "print(f\"\\nClique containing x1 ({X(1)}):\")\n",
        "clique_x1.print() # Print the clique itself"
      ]
    },
    {
      "cell_type": "markdown",
      "metadata": {
        "id": "bayestree_solve_md"
      },
      "source": [
        "## Solution and Marginals\n",
        "\n",
        "Similar to `BayesNet`, `BayesTree` (specifically derived types like `GaussianBayesTree`) provides an `optimize()` method for finding the MLE solution. It also allows for efficient computation of marginals on individual variables or joint marginals on pairs of variables using belief propagation or shortcut evaluation on the tree."
      ]
    },
    {
      "cell_type": "code",
      "execution_count": 5,
      "metadata": {
        "colab": {
          "base_uri": "https://localhost:8080/"
        },
        "id": "bayestree_solve_code",
        "outputId": "6789abcd-ef01-2345-6789-abcdef012345"
      },
      "outputs": [
        {
          "name": "stdout",
          "output_type": "stream",
          "text": [
            "Optimized Solution (MLE):\n",
            "VectorValues: 5 elements\n",
            "  l1: 0\n",
            "  l2: 0\n",
            "  x0: 0\n",
            "  x1: 0\n",
            "  x2: 0\n",
            "\n",
            "Marginal Factor on x1:\n",
            "GaussianConditional p(x1)\n",
            "  R = [ 0.774597 ]\n",
            "  d = [ 0 ]\n",
            "  mean: 1 elements\n",
            "  x1: 0\n",
            "  logNormalizationConstant: -1.17435\n",
            "  No noise model\n",
            "\n",
            "Joint Marginal Factor Graph on (x0, x2):\n",
            "\n",
            "size: 2\n",
            "factor 0:  p(x0 | x2)\n",
            "  R = [ 1.32288 ]\n",
            "  S[x2] = [ -0.566947 ]\n",
            "  d = [ 0 ]\n",
            "  logNormalizationConstant: -0.639131\n",
            "  No noise model\n",
            "factor 1:  p(x2)\n",
            "  R = [ 0.654654 ]\n",
            "  d = [ 0 ]\n",
            "  mean: 1 elements\n",
            "  x2: 0\n",
            "  logNormalizationConstant: -1.34259\n",
            "  No noise model\n"
          ]
        }
      ],
      "source": [
        "# Optimize to find the MLE solution (for GaussianBayesTree)\n",
        "mle_solution = bayes_tree.optimize()\n",
        "print(\"Optimized Solution (MLE):\")\n",
        "mle_solution.print()\n",
        "\n",
        "# Compute marginal factor on a single variable (returns a Conditional)\n",
        "marginal_x1 = bayes_tree.marginalFactor(X(1))\n",
        "print(\"\\nMarginal Factor on x1:\")\n",
        "marginal_x1.print()\n",
        "\n",
        "# Compute joint marginal factor graph on two variables\n",
        "joint_x0_x2 = bayes_tree.joint(X(0), X(2))\n",
        "print(\"\\nJoint Marginal Factor Graph on (x0, x2):\")\n",
        "joint_x0_x2.print()"
      ]
    },
    {
      "cell_type": "markdown",
      "metadata": {
        "id": "bayestree_viz_md"
      },
      "source": [
        "## Visualization\n",
        "\n",
        "Bayes trees can be visualized using Graphviz."
      ]
    },
    {
      "cell_type": "code",
      "execution_count": 6,
      "metadata": {
        "colab": {
          "base_uri": "https://localhost:8080/"
        },
        "id": "bayestree_dot_code",
        "outputId": "789abcde-f012-3456-789a-bcdef0123456"
      },
      "outputs": [
        {
          "name": "stdout",
          "output_type": "stream",
          "text": [
            "digraph G{\n",
            "0[label=\"x1, l2, x2\"];\n",
            "0->1\n",
            "1[label=\"l1, x0 : x1\"];\n",
            "}\n"
          ]
        },
        {
          "data": {
            "image/svg+xml": [
              "<?xml version=\"1.0\" encoding=\"UTF-8\" standalone=\"no\"?>\n",
              "<!DOCTYPE svg PUBLIC \"-//W3C//DTD SVG 1.1//EN\"\n",
              " \"http://www.w3.org/Graphics/SVG/1.1/DTD/svg11.dtd\">\n",
              "<!-- Generated by graphviz version 2.50.0 (0)\n",
              " -->\n",
              "<!-- Title: G Pages: 1 -->\n",
              "<svg width=\"103pt\" height=\"116pt\"\n",
              " viewBox=\"0.00 0.00 102.89 116.00\" xmlns=\"http://www.w3.org/2000/svg\" xmlns:xlink=\"http://www.w3.org/1999/xlink\">\n",
              "<g id=\"graph0\" class=\"graph\" transform=\"scale(1 1) rotate(0) translate(4 112)\">\n",
              "<title>G</title>\n",
              "<polygon fill=\"white\" stroke=\"transparent\" points=\"-4,4 -4,-112 98.89,-112 98.89,4 -4,4\"/>\n",
              "<!-- 0 -->\n",
              "<g id=\"node1\" class=\"node\">\n",
              "<title>0</title>\n",
              "<ellipse fill=\"none\" stroke=\"black\" cx=\"47.45\" cy=\"-90\" rx=\"44.69\" ry=\"18\"/>\n",
              "<text text-anchor=\"middle\" x=\"47.45\" y=\"-86.3\" font-family=\"Times New Roman,serif\" font-size=\"14.00\">x1, l2, x2</text>\n",
              "</g>\n",
              "<!-- 1 -->\n",
              "<g id=\"node2\" class=\"node\">\n",
              "<title>1</title>\n",
              "<ellipse fill=\"none\" stroke=\"black\" cx=\"47.45\" cy=\"-18\" rx=\"47.39\" ry=\"18\"/>\n",
              "<text text-anchor=\"middle\" x=\"47.45\" y=\"-14.3\" font-family=\"Times New Roman,serif\" font-size=\"14.00\">l1, x0 : x1</text>\n",
              "</g>\n",
              "<!-- 0&#45;&gt;1 -->\n",
              "<g id=\"edge1\" class=\"edge\">\n",
              "<title>0&#45;&gt;1</title>\n",
              "<path fill=\"none\" stroke=\"black\" d=\"M47.45,-71.7C47.45,-63.98 47.45,-54.71 47.45,-46.11\"/>\n",
              "<polygon fill=\"black\" stroke=\"black\" points=\"50.95,-46.1 47.45,-36.1 43.95,-46.1 50.95,-46.1\"/>\n",
              "</g>\n",
              "</g>\n",
              "</svg>\n"
            ],
            "text/plain": [
              "<graphviz.sources.Source at 0x1241c40dbe0>"
            ]
          },
          "execution_count": 6,
          "metadata": {},
          "output_type": "execute_result"
        }
      ],
      "source": [
        "dot_string = bayes_tree.dot()\n",
        "print(dot_string)\n",
        "\n",
        "# To render:\n",
        "# dot -Tpng bayestree.dot -o bayestree.png\n",
        "import graphviz\n",
        "graphviz.Source(dot_string)"
      ]
    }
  ],
  "metadata": {
    "colab": {
      "provenance": []
    },
    "kernelspec": {
      "display_name": "gtsam",
      "language": "python",
      "name": "python3"
    },
    "language_info": {
      "codemirror_mode": {
        "name": "ipython",
        "version": 3
      },
      "file_extension": ".py",
      "mimetype": "text/x-python",
      "name": "python",
      "nbconvert_exporter": "python",
      "pygments_lexer": "ipython3",
      "version": "3.13.1"
    }
  },
  "nbformat": 4,
  "nbformat_minor": 0
}
