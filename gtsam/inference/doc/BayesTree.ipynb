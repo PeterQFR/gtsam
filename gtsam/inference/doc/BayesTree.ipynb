{
    "cells": [
      {
        "cell_type": "markdown",
        "metadata": {
          "id": "bayestree_intro_md"
        },
        "source": [
          "# BayesTree"
        ]
      },
      {
        "cell_type": "markdown",
        "metadata": {
          "id": "bayestree_desc_md"
        },
        "source": [
          "A `BayesTree` is a graphical model that represents the result of multifrontal variable elimination on a `FactorGraph`. It is a tree structure where each node is a 'clique' containing a set of conditional distributions $P(\text{Frontals} | \text{Separator})$.\n",
          "\n",
          "Key properties:\n",
          "*   **Cliques:** Each node (clique) groups variables that are eliminated together.\n",
          "*   **Frontal Variables:** Variables eliminated within a specific clique.\n",
          "*   **Separator Variables:** Variables shared between a clique and its parent in the tree. These variables were eliminated higher up in the tree.\n",
          "*   **Tree Structure:** Represents the dependencies introduced during elimination more compactly than a Bayes net, especially for sparse problems.\n",
          "\n",
          "Like `FactorGraph` and `BayesNet`, `BayesTree` is templated on the type of conditional/clique (e.g., `GaussianBayesTree`)."
        ]
      },
      {
        "cell_type": "markdown",
        "metadata": {
          "id": "bayestree_colab_md"
        },
        "source": [
          "<a href=\"https://colab.research.google.com/github/borglab/gtsam/blob/develop/gtsam/inference/doc/BayesTree.ipynb\" target=\"_parent\"><img src=\"https://colab.research.google.com/assets/colab-badge.svg\" alt=\"Open In Colab\"/></a>"
        ]
      },
      {
        "cell_type": "code",
        "execution_count": null,
        "metadata": {
          "id": "bayestree_pip_code"
        },
        "outputs": [],
        "source": [
          "%pip install gtsam"
        ]
      },
      {
        "cell_type": "code",
        "execution_count": null,
        "metadata": {
          "id": "bayestree_import_code"
        },
        "outputs": [],
        "source": [
          "import gtsam\n",
          "import numpy as np\n",
          "\n",
          "# We need concrete graph types and elimination to get a BayesTree\n",
          "from gtsam import GaussianFactorGraph, Ordering, GaussianBayesTree\n",
          "from gtsam import symbol_shorthand\n",
          "\n",
          "X = symbol_shorthand.X\n",
          "L = symbol_shorthand.L"
        ]
      },
      {
        "cell_type": "markdown",
        "metadata": {
          "id": "bayestree_create_md"
        },
        "source": [
          "## Creating a BayesTree (via Elimination)\n",
          "\n",
          "BayesTrees are typically obtained by performing multifrontal elimination on a `FactorGraph`."
        ]
      },
      {
        "cell_type": "code",
        "execution_count": null,
        "metadata": {
          "id": "bayestree_eliminate_code",
          "colab": {
            "base_uri": "https://localhost:8080/"
          },
          "outputId": "456789ab-cdef-0123-4567-89abcdef0123"
        },
        "outputs": [
          {
            "name": "stdout",
            "output_type": "stream",
            "text": [
              "Original Factor Graph: size 7\n",
              "Factor 0: JacobianFactor(keys = [8070450532247928832], Z = [ -1 ], b = [ 0 ], model = diagonal sigmas [1])\n",
              "Factor 1: JacobianFactor(keys = [8070450532247928832; 8070450532247928833], A[0] = [ -1  1 ], b = [ 0 ], model = diagonal sigmas [1])\n",
              "Factor 2: JacobianFactor(keys = [8070450532247928833; 8070450532247928834], A[0] = [ -1  1 ], b = [ 0 ], model = diagonal sigmas [1])\n",
              "Factor 3: JacobianFactor(keys = [7783684379976990720; 8070450532247928832], A[0] = [ -1  1 ], b = [ 0 ], model = diagonal sigmas [1])\n",
              "Factor 4: JacobianFactor(keys = [7783684379976990720; 8070450532247928833], A[0] = [ -1  1 ], b = [ 0 ], model = diagonal sigmas [1])\n",
              "Factor 5: JacobianFactor(keys = [7783684379976990721; 8070450532247928833], A[0] = [ -1  1 ], b = [ 0 ], model = diagonal sigmas [1])\n",
              "Factor 6: JacobianFactor(keys = [7783684379976990721; 8070450532247928834], A[0] = [ -1  1 ], b = [ 0 ], model = diagonal sigmas [1])\n",
              "\n",
              "\n",
              "Resulting BayesTree: cliques: 3, variables: 5\n",
              "Root(s):\n",
              "Conditional density P(l1, x1 | l2, x2) = P(l1 | x1) P(x1 | l2, x2) \n",
              "  size: 2\n",
              "  Conditional P(l1 | x1): GaussianConditional( P(l1 | x1) = dl1 - R*dx1 - d), R = [ 0.5 ], d = [ 0 ], sigmas = [ 0.866025 ])\n",
              "\n",
              "  Conditional P(x1 | l2, x2): GaussianConditional( P(x1 | l2, x2) = dx1 - R1*dl2 - R2*dx2 - d), R1 = [ 0.333333 ], R2 = [ 0.333333 ], d = [ 0 ], sigmas = [ 0.745356 ])\n",
              "\n",
              "\n",
              "  Children:\n",
              "  Conditional density P(l2, x2 | x0) = P(l2 | x2) P(x2 | x0) \n",
              "    size: 2\n",
              "    Conditional P(l2 | x2): GaussianConditional( P(l2 | x2) = dl2 - R*dx2 - d), R = [ 0.5 ], d = [ 0 ], sigmas = [ 0.866025 ])\n",
              "\n",
              "    Conditional P(x2 | x0): GaussianConditional( P(x2 | x0) = dx2 - R*dx0 - d), R = [ 0.2 ], d = [ 0 ], sigmas = [ 0.774597 ])\n",
              "\n",
              "\n",
              "    Children:\n",
              "    Conditional density P(x0) = P(x0) \n",
              "      size: 1\n",
              "      Conditional P(x0): GaussianConditional( P(x0) = dx0 - d), d = [ 0 ], sigmas = [ 0.894427 ])\n",
              "\n",
              "\n"
            ]
          }
        ],
        "source": [
          "# Create a simple Gaussian Factor Graph (more complex this time)\n",
          "graph = GaussianFactorGraph()\n",
          "model = gtsam.noiseModel.Isotropic.Sigma(1, 1.0)\n",
          "graph.add(X(0), -np.eye(1), np.zeros(1), model)           # Prior on x0\n",
          "graph.add(X(0), -np.eye(1), X(1), np.eye(1), np.zeros(1), model) # x0 -> x1\n",
          "graph.add(X(1), -np.eye(1), X(2), np.eye(1), np.zeros(1), model) # x1 -> x2\n",
          "graph.add(L(1), -np.eye(1), X(0), np.eye(1), np.zeros(1), model) # l1 -> x0 (measurement)\n",
          "graph.add(L(1), -np.eye(1), X(1), np.eye(1), np.zeros(1), model) # l1 -> x1 (measurement)\n",
          "graph.add(L(2), -np.eye(1), X(1), np.eye(1), np.zeros(1), model) # l2 -> x1 (measurement)\n",
          "graph.add(L(2), -np.eye(1), X(2), np.eye(1), np.zeros(1), model) # l2 -> x2 (measurement)\n",
          "\n",
          "print(\"Original Factor Graph:\")\n",
          "graph.print()\n",
          "\n",
          "# Eliminate multifrontally using COLAMD ordering\n",
          "ordering = Ordering.Colamd(graph)\n",
          "# Note: Multifrontal typically yields multiple roots if graph is disconnected\n",
          "bayes_tree = graph.eliminateMultifrontal(ordering)\n",
          "\n",
          "print(\"\\nResulting BayesTree:\")\n",
          "bayes_tree.print()"
        ]
      },
      {
        "cell_type": "markdown",
        "metadata": {
          "id": "bayestree_props_md"
        },
        "source": [
          "## Properties and Access\n",
          "\n",
          "A `BayesTree` allows access to its root cliques and provides a way to look up the clique containing a specific variable."
        ]
      },
      {
        "cell_type": "code",
        "execution_count": null,
        "metadata": {
          "id": "bayestree_access_code",
          "colab": {
            "base_uri": "https://localhost:8080/"
          },
          "outputId": "56789abc-def0-1234-5678-9abcdef01234"
        },
        "outputs": [
          {
            "name": "stdout",
            "output_type": "stream",
            "text": [
              "BayesTree number of cliques: 3\n",
              "Number of roots: 1\n",
              "Root clique 0 conditional frontals: [7783684379976990720, 8070450532247928833]\n",
              "\n",
              "Clique containing x1 (8070450532247928833):\n",
              "Conditional density P(l1, x1 | l2, x2) = P(l1 | x1) P(x1 | l2, x2) \n",
              "  size: 2\n",
              "  Conditional P(l1 | x1): GaussianConditional( P(l1 | x1) = dl1 - R*dx1 - d), R = [ 0.5 ], d = [ 0 ], sigmas = [ 0.866025 ])\n",
              "\n",
              "  Conditional P(x1 | l2, x2): GaussianConditional( P(x1 | l2, x2) = dx1 - R1*dl2 - R2*dx2 - d), R1 = [ 0.333333 ], R2 = [ 0.333333 ], d = [ 0 ], sigmas = [ 0.745356 ])\n",
              "\n",
              "\n"
            ]
          }
        ],
        "source": [
          "print(f\"BayesTree number of cliques: {bayes_tree.size()}\")\n",
          "\n",
          "# Access roots\n",
          "roots = bayes_tree.roots()\n",
          "print(f\"Number of roots: {len(roots)}\")\n",
          "if roots:\n",
          "    # Access the conditional associated with the first root clique\n",
          "    root_conditional = roots[0].conditional()\n",
          "    print(f\"Root clique 0 conditional frontals: {root_conditional.frontals()}\")\n",
          "\n",
          "# Find the clique containing a specific variable\n",
          "clique_x1 = bayes_tree.clique(X(1))\n",
          "# clique_x1 is a shared pointer to the clique (e.g., GaussianBayesTreeClique)\n",
          "print(f\"\\nClique containing x1 ({X(1)}):\")\n",
          "clique_x1.print() # Print the clique itself"
        ]
      },
      {
        "cell_type": "markdown",
        "metadata": {
          "id": "bayestree_solve_md"
        },
        "source": [
          "## Solution and Marginals\n",
          "\n",
          "Similar to `BayesNet`, `BayesTree` (specifically derived types like `GaussianBayesTree`) provides an `optimize()` method for finding the MLE solution. It also allows for efficient computation of marginals on individual variables or joint marginals on pairs of variables using belief propagation or shortcut evaluation on the tree."
        ]
      },
      {
        "cell_type": "code",
        "execution_count": null,
        "metadata": {
          "id": "bayestree_solve_code",
          "colab": {
            "base_uri": "https://localhost:8080/"
          },
          "outputId": "6789abcd-ef01-2345-6789-abcdef012345"
        },
        "outputs": [
          {
            "name": "stdout",
            "output_type": "stream",
            "text": [
              "Optimized Solution (MLE):\n",
              "Values with 5 values:\n",
              "Value l1: [0.]\n",
              "Value l2: [0.]\n",
              "Value x0: [0.]\n",
              "Value x1: [0.]\n",
              "Value x2: [0.]\n",
              "\n",
              "\n",
              "Marginal Factor on x1:\n",
              "Conditional density P(x1 | l2, x2) = P(x1 | l2, x2) \n",
              "  size: 1\n",
              "  Conditional P(x1 | l2, x2): GaussianConditional( P(x1 | l2, x2) = dx1 - R1*dl2 - R2*dx2 - d), R1 = [ 0.333333 ], R2 = [ 0.333333 ], d = [ 0 ], sigmas = [ 0.745356 ])\n",
              "\n",
              "\n",
              "Joint Marginal Factor Graph on (x0, x2):\n",
              "Factor Graph: size 2\n",
              "Factor 0: GaussianConditional( P(x0 | x2) = dx0 - R*dx2 - d), R = [ 0.25 ], d = [ 0 ], sigmas = [ 0.866025 ])\n",
              "Factor 1: GaussianConditional( P(x2) = dx2 - d), d = [ 0 ], sigmas = [ 0.774597 ])\n",
              "\n"
            ]
          }
        ],
        "source": [
          "# Optimize to find the MLE solution (for GaussianBayesTree)\n",
          "mle_solution = bayes_tree.optimize()\n",
          "print(\"Optimized Solution (MLE):\")\n",
          "mle_solution.print()\n",
          "\n",
          "# Compute marginal factor on a single variable (returns a Conditional)\n",
          "marginal_x1 = bayes_tree.marginalFactor(X(1))\n",
          "print(\"\\nMarginal Factor on x1:\")\n",
          "marginal_x1.print()\n",
          "\n",
          "# Compute joint marginal factor graph on two variables\n",
          "joint_x0_x2 = bayes_tree.joint(X(0), X(2))\n",
          "print(\"\\nJoint Marginal Factor Graph on (x0, x2):\")\n",
          "joint_x0_x2.print()"
        ]
      },
      {
        "cell_type": "markdown",
        "metadata": {
          "id": "bayestree_viz_md"
        },
        "source": [
          "## Visualization\n",
          "\n",
          "Bayes trees can be visualized using Graphviz."
        ]
      },
      {
        "cell_type": "code",
        "execution_count": null,
        "metadata": {
          "id": "bayestree_dot_code",
          "colab": {
            "base_uri": "https://localhost:8080/"
          },
          "outputId": "789abcde-f012-3456-789a-bcdef0123456"
        },
        "outputs": [
          {
            "name": "stdout",
            "output_type": "stream",
            "text": [
              "digraph G{\n",
              "0[label=\"l1, x1 : l2, x2\"];\n",
              "0->1\n",
              "1[label=\"l2, x2 : x0\"];\n",
              "1->2\n",
              "2[label=\"x0 : \"];\n",
              "}"
            ]
          }
        ],
        "source": [
          "dot_string = bayes_tree.dot()\n",
          "print(dot_string)\n",
          "\n",
          "# To render:\n",
          "# dot -Tpng bayestree.dot -o bayestree.png\n",
          "# import graphviz\n",
          "# graphviz.Source(dot_string)"
        ]
      }
    ],
    "metadata": {
      "colab": {
        "provenance": []
      },
      "kernelspec": {
        "display_name": "Python 3",
        "name": "python3"
      },
      "language_info": {
        "name": "python"
      }
    },
    "nbformat": 4,
    "nbformat_minor": 0
  }