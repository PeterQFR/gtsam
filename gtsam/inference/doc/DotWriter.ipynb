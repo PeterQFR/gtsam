{
    "cells": [
      {
        "cell_type": "markdown",
        "metadata": {
          "id": "dotwriter_intro_md"
        },
        "source": [
          "# DotWriter"
        ]
      },
      {
        "cell_type": "markdown",
        "metadata": {
          "id": "dotwriter_desc_md"
        },
        "source": [
          "The `DotWriter` class is a helper utility in GTSAM used to customize the generation of Graphviz `.dot` file strings for visualizing factor graphs, Bayes nets, and Bayes trees.\n",
          "\n",
          "It allows you to control aspects like figure size, whether factors are plotted as points, how edges are drawn, and specify explicit positions for variables and factors."
        ]
      },
      {
        "cell_type": "markdown",
        "metadata": {
          "id": "dotwriter_colab_md"
        },
        "source": [
          "<a href=\"https://colab.research.google.com/github/borglab/gtsam/blob/develop/gtsam/inference/doc/DotWriter.ipynb\" target=\"_parent\"><img src=\"https://colab.research.google.com/assets/colab-badge.svg\" alt=\"Open In Colab\"/></a>"
        ]
      },
      {
        "cell_type": "code",
        "execution_count": null,
        "metadata": {
          "id": "dotwriter_pip_code"
        },
        "outputs": [],
        "source": [
          "%pip install gtsam graphviz"
        ]
      },
      {
        "cell_type": "code",
        "execution_count": null,
        "metadata": {
          "id": "dotwriter_import_code"
        },
        "outputs": [],
        "source": [
          "import gtsam\n",
          "from gtsam import DotWriter\n",
          "from gtsam import SymbolicFactorGraph # Example graph type\n",
          "from gtsam import symbol_shorthand\n",
          "import graphviz # For rendering\n",
          "import numpy as np\n",
          "\n",
          "X = symbol_shorthand.X\n",
          "L = symbol_shorthand.L"
        ]
      },
      {
        "cell_type": "markdown",
        "metadata": {
          "id": "dotwriter_create_md"
        },
        "source": [
          "## Creating and Configuring a DotWriter\n",
          "\n",
          "You create a `DotWriter` object and can then modify its public member variables to change the output format."
        ]
      },
      {
        "cell_type": "code",
        "execution_count": null,
        "metadata": {
          "id": "dotwriter_config_code"
        },
        "outputs": [],
        "source": [
          "writer = DotWriter(\n",
          "    figureWidthInches = 8.0,\n",
          "    figureHeightInches = 5.0,\n",
          "    plotFactorPoints = True,      # Draw black dots for factors\n",
          "    connectKeysToFactor = True,   # Draw edges from variables to factor dots\n",
          "    binaryEdges = False           # Don't simplify binary factors to single edges\n",
          ")\n",
          "\n",
          "# --- Configuration Options ---\n",
          "\n",
          "# Specify explicit positions (used by neato -n)\n",
          "writer.variablePositions = {\n",
          "    X(0): gtsam.Point2(0, 0),\n",
          "    X(1): gtsam.Point2(2, 0),\n",
          "    X(2): gtsam.Point2(4, 0),\n",
          "    L(1): gtsam.Point2(1, 2),\n",
          "    L(2): gtsam.Point2(3, 2)\n",
          "}\n",
          "\n",
          "# Specify position hints (alternative, uses symbol char and index)\n",
          "# writer.positionHints = {'x': 0.0, 'l': 2.0} # Puts 'x' vars at y=0, 'l' vars at y=2\n",
          "\n",
          "# Specify which variables should be boxes\n",
          "writer.boxes = {L(1), L(2)}\n",
          "\n",
          "# Specify factor positions (less common)\n",
          "# writer.factorPositions = {3: gtsam.Point2(0.5, 1.0)}"
        ]
      },
      {
        "cell_type": "markdown",
        "metadata": {
          "id": "dotwriter_usage_md"
        },
        "source": [
          "## Usage with Graph Objects\n",
          "\n",
          "The configured `DotWriter` object is passed as an argument to the `.dot()` method of `FactorGraph`, `BayesNet`, or `BayesTree`."
        ]
      },
      {
        "cell_type": "code",
        "execution_count": null,
        "metadata": {
          "id": "dotwriter_graph_code",
          "colab": {
            "base_uri": "https://localhost:8080/"
          },
          "outputId": "bcdef012-3456-789a-bcde-f0123456789a"
        },
        "outputs": [
          {
            "data": {
              "image/svg+xml": [
                "<svg xmlns=\"http://www.w3.org/2000/svg\" xmlns:xlink=\"http://www.w3.org/1999/xlink\" width=\"288pt\" height=\"180pt\" viewBox=\"0 0 288 180\">\n",
                "<g id=\"graph0\" class=\"graph\" transform=\"scale(1 1) rotate(0) translate(4 176)\">\n",
                "<title>%0</title>\n",
                "<polygon fill=\"white\" stroke=\"transparent\" points=\"-4,4 -4,-176 284,-176 284,4 -4,4\"></polygon>\n",
                "<g id=\"node1\" class=\"node\">\n",
                "<title>var8070450532247928832</title>\n",
                "<ellipse fill=\"none\" stroke=\"black\" cx=\"0\" cy=\"-168\" rx=\"27\" ry=\"18\"/>\n",
                "<text text-anchor=\"middle\" x=\"0\" y=\"-164.3\" font-family=\"Times,serif\" font-size=\"14.00\">x0</text>\n",
                "</g>\n",
                "<g id=\"node6\" class=\"node\">\n",
                "<title>factor0</title>\n",
                "<ellipse fill=\"black\" stroke=\"black\" cx=\"0\" cy=\"-86\" rx=\"4\" ry=\"4\"/>\n",
                "</g>\n",
                "<g id=\"edge1\" class=\"edge\">\n",
                "<title>var8070450532247928832&#45;&#45;factor0</title>\n",
                "<path fill=\"none\" stroke=\"black\" d=\"M0,-149.7C0,-136.29 0,-116.94 0,-100.2\"/>\n",
                "</g>\n",
                "<g id=\"node2\" class=\"node\">\n",
                "<title>var8070450532247928833</title>\n",
                "<ellipse fill=\"none\" stroke=\"black\" cx=\"72\" cy=\"-168\" rx=\"27\" ry=\"18\"/>\n",
                "<text text-anchor=\"middle\" x=\"72\" y=\"-164.3\" font-family=\"Times,serif\" font-size=\"14.00\">x1</text>\n",
                "</g>\n",
                "<g id=\"node7\" class=\"node\">\n",
                "<title>factor1</title>\n",
                "<ellipse fill=\"black\" stroke=\"black\" cx=\"36\" cy=\"-86\" rx=\"4\" ry=\"4\"/>\n",
                "</g>\n",
                "<g id=\"edge2\" class=\"edge\">\n",
                "<title>var8070450532247928832&#45;&#45;factor1</title>\n",
                "<path fill=\"none\" stroke=\"black\" d=\"M10.86,-151.33C16.65,-138.34 25.54,-118.42 31.25,-104.29\"/>\n",
                "</g>\n",
                "<g id=\"edge3\" class=\"edge\">\n",
                "<title>var8070450532247928833&#45;&#45;factor1</title>\n",
                "<path fill=\"none\" stroke=\"black\" d=\"M61.14,-151.33C55.35,-138.34 46.46,-118.42 40.75,-104.29\"/>\n",
                "</g>\n",
                "<g id=\"node3\" class=\"node\">\n",
                "<title>var8070450532247928834</title>\n",
                "<ellipse fill=\"none\" stroke=\"black\" cx=\"144\" cy=\"-168\" rx=\"27\" ry=\"18\"/>\n",
                "<text text-anchor=\"middle\" x=\"144\" y=\"-164.3\" font-family=\"Times,serif\" font-size=\"14.00\">x2</text>\n",
                "</g>\n",
                "<g id=\"node8\" class=\"node\">\n",
                "<title>factor2</title>\n",
                "<ellipse fill=\"black\" stroke=\"black\" cx=\"108\" cy=\"-86\" rx=\"4\" ry=\"4\"/>\n",
                "</g>\n",
                "<g id=\"edge4\" class=\"edge\">\n",
                "<title>var8070450532247928833&#45;&#45;factor2</title>\n",
                "<path fill=\"none\" stroke=\"black\" d=\"M82.86,-151.33C88.65,-138.34 97.54,-118.42 103.25,-104.29\"/>\n",
                "</g>\n",
                "<g id=\"edge5\" class=\"edge\">\n",
                "<title>var8070450532247928834&#45;&#45;factor2</title>\n",
                "<path fill=\"none\" stroke=\"black\" d=\"M133.14,-151.33C127.35,-138.34 118.46,-118.42 112.75,-104.29\"/>\n",
                "</g>\n",
                "<g id=\"node4\" class=\"node\">\n",
                "<title>var7783684379976990720</title>\n",
                "<polygon fill=\"none\" stroke=\"black\" points=\"36,-36 0,-36 0,0 36,0 36,-36\"/>\n",
                "<text text-anchor=\"middle\" x=\"18\" y=\"-14.3\" font-family=\"Times,serif\" font-size=\"14.00\">l1</text>\n",
                "</g>\n",
                "<g id=\"node9\" class=\"node\">\n",
                "<title>factor3</title>\n",
                "<ellipse fill=\"black\" stroke=\"black\" cx=\"9\" cy=\"-86\" rx=\"4\" ry=\"4\"/>\n",
                "</g>\n",
                "<g id=\"edge6\" class=\"edge\">\n",
                "<title>var7783684379976990720&#45;&#45;factor3</title>\n",
                "<path fill=\"none\" stroke=\"black\" d=\"M15.54,-36.4C14.23,-45.91 12.2,-60.18 10.73,-71.73\"/>\n",
                "</g>\n",
                "<g id=\"edge7\" class=\"edge\">\n",
                "<title>var8070450532247928832&#45;&#45;factor3</title>\n",
                "<path fill=\"none\" stroke=\"black\" d=\"M2.46,-149.6C3.77,-140.09 5.8,-125.82 7.27,-114.27\"/>\n",
                "</g>\n",
                "<g id=\"node10\" class=\"node\">\n",
                "<title>factor4</title>\n",
                "<ellipse fill=\"black\" stroke=\"black\" cx=\"63\" cy=\"-86\" rx=\"4\" ry=\"4\"/>\n",
                "</g>\n",
                "<g id=\"edge8\" class=\"edge\">\n",
                "<title>var7783684379976990720&#45;&#45;factor4</title>\n",
                "<path fill=\"none\" stroke=\"black\" d=\"M28.86,-36.4C36.18,-46.75 47.65,-62.56 55.44,-73.58\"/>\n",
                "</g>\n",
                "<g id=\"edge9\" class=\"edge\">\n",
                "<title>var8070450532247928833&#45;&#45;factor4</title>\n",
                "<path fill=\"none\" stroke=\"black\" d=\"M70.01,-149.85C68.75,-140.33 66.89,-126.08 65.46,-114.56\"/>\n",
                "</g>\n",
                "<g id=\"node5\" class=\"node\">\n",
                "<title>var7783684379976990721</title>\n",
                "<polygon fill=\"none\" stroke=\"black\" points=\"108,-36 72,-36 72,0 108,0 108,-36\"/>\n",
                "<text text-anchor=\"middle\" x=\"90\" y=\"-14.3\" font-family=\"Times,serif\" font-size=\"14.00\">l2</text>\n",
                "</g>\n",
                "<g id=\"node11\" class=\"node\">\n",
                "<title>factor5</title>\n",
                "<ellipse fill=\"black\" stroke=\"black\" cx=\"81\" cy=\"-86\" rx=\"4\" ry=\"4\"/>\n",
                "</g>\n",
                "<g id=\"edge10\" class=\"edge\">\n",
                "<title>var7783684379976990721&#45;&#45;factor5</title>\n",
                "<path fill=\"none\" stroke=\"black\" d=\"M87.54,-36.4C86.23,-45.91 84.2,-60.18 82.73,-71.73\"/>\n",
                "</g>\n",
                "<g id=\"edge11\" class=\"edge\">\n",
                "<title>var8070450532247928833&#45;&#45;factor5</title>\n",
                "<path fill=\"none\" stroke=\"black\" d=\"M74.46,-149.6C75.77,-140.09 77.8,-125.82 79.27,-114.27\"/>\n",
                "</g>\n",
                "<g id=\"node12\" class=\"node\">\n",
                "<title>factor6</title>\n",
                "<ellipse fill=\"black\" stroke=\"black\" cx=\"135\" cy=\"-86\" rx=\"4\" ry=\"4\"/>\n",
                "</g>\n",
                "<g id=\"edge12\" class=\"edge\">\n",
                "<title>var7783684379976990721&#45;&#45;factor6</title>\n",
                "<path fill=\"none\" stroke=\"black\" d=\"M100.86,-36.4C108.18,-46.75 119.65,-62.56 127.44,-73.58\"/>\n",
                "</g>\n",
                "<g id=\"edge13\" class=\"edge\">\n",
                "<title>var8070450532247928834&#45;&#45;factor6</title>\n",
                "<path fill=\"none\" stroke=\"black\" d=\"M142.01,-149.85C140.75,-140.33 138.89,-126.08 137.46,-114.56\"/>\n",
                "</g>\n",
                "</g>\n",
                "</svg>\n"
              ],
              "text/plain": [
                "<graphviz.files.Source at 0x7f87c4e3f340>"
              ]
            },
            "metadata": {},
            "output_type": "display_data"
          }
        ],
        "source": [
          "# Create the same graph as in VariableIndex example\n",
          "graph = SymbolicFactorGraph()\n",
          "graph.push_factor(X(0))           # Factor 0\n",
          "graph.push_factor(X(0), X(1))     # Factor 1\n",
          "graph.push_factor(X(1), X(2))     # Factor 2\n",
          "graph.push_factor(X(0), L(1))     # Factor 3\n",
          "graph.push_factor(X(1), L(1))     # Factor 4\n",
          "graph.push_factor(X(1), L(2))     # Factor 5\n",
          "graph.push_factor(X(2), L(2))     # Factor 6\n",
          "\n",
          "# Generate dot string using the configured writer\n",
          "dot_string = graph.dot(writer=writer)\n",
          "# print(dot_string)\n",
          "\n",
          "# Render the graph\n",
          "graphviz.Source(dot_string)"
        ]
      }
    ],
    "metadata": {
      "colab": {
        "provenance": []
      },
      "kernelspec": {
        "display_name": "Python 3",
        "name": "python3"
      },
      "language_info": {
        "name": "python"
      }
    },
    "nbformat": 4,
    "nbformat_minor": 0
  }