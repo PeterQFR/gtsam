{
    "cells": [
      {
        "cell_type": "markdown",
        "metadata": {
          "id": "ordering_intro_md"
        },
        "source": [
          "# Ordering"
        ]
      },
      {
        "cell_type": "markdown",
        "metadata": {
          "id": "ordering_desc_md"
        },
        "source": [
          "An `Ordering` specifies the order in which variables are eliminated during inference (e.g., Gaussian elimination, multifrontal QR). The choice of ordering significantly impacts the computational cost and fill-in (sparsity) of the resulting Bayes net or Bayes tree.\n",
          "\n",
          "GTSAM provides several algorithms to compute good orderings automatically (like COLAMD, METIS) or allows you to specify a custom ordering."
        ]
      },
      {
        "cell_type": "markdown",
        "metadata": {
          "id": "ordering_colab_md"
        },
        "source": [
          "<a href=\"https://colab.research.google.com/github/borglab/gtsam/blob/develop/gtsam/inference/doc/Ordering.ipynb\" target=\"_parent\"><img src=\"https://colab.research.google.com/assets/colab-badge.svg\" alt=\"Open In Colab\"/></a>"
        ]
      },
      {
        "cell_type": "code",
        "execution_count": null,
        "metadata": {
          "id": "ordering_pip_code"
        },
        "outputs": [],
        "source": [
          "%pip install gtsam"
        ]
      },
      {
        "cell_type": "code",
        "execution_count": null,
        "metadata": {
          "id": "ordering_import_code"
        },
        "outputs": [],
        "source": [
          "import gtsam\n",
          "from gtsam import Ordering\n",
          "# Need a graph type for automatic ordering\n",
          "from gtsam import SymbolicFactorGraph\n",
          "from gtsam import symbol_shorthand\n",
          "\n",
          "X = symbol_shorthand.X\n",
          "L = symbol_shorthand.L"
        ]
      },
      {
        "cell_type": "markdown",
        "metadata": {
          "id": "ordering_create_md"
        },
        "source": [
          "## Creating an Ordering\n",
          "\n",
          "Orderings can be created manually or computed automatically from a factor graph."
        ]
      },
      {
        "cell_type": "code",
        "execution_count": null,
        "metadata": {
          "id": "ordering_manual_code",
          "colab": {
            "base_uri": "https://localhost:8080/"
          },
          "outputId": "6789abcd-ef01-2345-6789-abcdef012345"
        },
        "outputs": [
          {
            "name": "stdout",
            "output_type": "stream",
            "text": [
              "Manual Ordering: \n",
              "Position 0: x1\n",
              "Position 1: l1\n",
              "Position 2: x2\n",
              "Position 3: l2\n",
              "Position 4: x0\n"
            ]
          }
        ],
        "source": [
          "# Manual creation (list of keys)\n",
          "manual_ordering = Ordering([X(1), L(1), X(2), L(2), X(0)])\n",
          "manual_ordering.print(\"Manual Ordering: \")"
        ]
      },
      {
        "cell_type": "code",
        "execution_count": null,
        "metadata": {
          "id": "ordering_auto_code",
          "colab": {
            "base_uri": "https://localhost:8080/"
          },
          "outputId": "789abcde-f012-3456-789a-bcdef0123456"
        },
        "outputs": [
          {
            "name": "stdout",
            "output_type": "stream",
            "text": [
              "COLAMD Ordering: \n",
              "Position 0: x0\n",
              "Position 1: l1\n",
              "Position 2: x1\n",
              "Position 3: l2\n",
              "Position 4: x2\n",
              "\n",
              "Constrained COLAMD (x0, x2 last): \n",
              "Position 0: l1\n",
              "Position 1: l2\n",
              "Position 2: x1\n",
              "Position 3: x0\n",
              "Position 4: x2\n"
            ]
          }
        ],
        "source": [
          "# Automatic creation requires a factor graph\n",
          "# Let's use a simple SymbolicFactorGraph for structure\n",
          "graph = SymbolicFactorGraph()\n",
          "graph.push_factor(X(0))\n",
          "graph.push_factor(X(0), X(1))\n",
          "graph.push_factor(X(1), X(2))\n",
          "graph.push_factor(X(0), L(1))\n",
          "graph.push_factor(X(1), L(1))\n",
          "graph.push_factor(X(1), L(2))\n",
          "graph.push_factor(X(2), L(2))\n",
          "\n",
          "# COLAMD (Column Approximate Minimum Degree) ordering\n",
          "colamd_ordering = Ordering.Colamd(graph)\n",
          "colamd_ordering.print(\"COLAMD Ordering: \")\n",
          "\n",
          "# Constrained COLAMD (force x0 and x2 to be eliminated last)\n",
          "constrained_ordering = Ordering.ColamdConstrainedLast(graph, gtsam.KeyVector([X(0), X(2)]))\n",
          "constrained_ordering.print(\"Constrained COLAMD (x0, x2 last): \")\n",
          "\n",
          "# METIS ordering (if GTSAM was built with METIS support)\n",
          "try:\n",
          "    metis_ordering = Ordering.Metis(graph)\n",
          "    # metis_ordering.print(\"METIS Ordering: \")\n",
          "except RuntimeError as e:\n",
          "    print(f\"\\nSkipping METIS: {e}\")\n",
          "\n",
          "# Natural ordering (based on key magnitude)\n",
          "natural_ordering = Ordering.Natural(graph)\n",
          "# natural_ordering.print(\"Natural Ordering: \")"
        ]
      },
      {
        "cell_type": "markdown",
        "metadata": {
          "id": "ordering_access_md"
        },
        "source": [
          "## Accessing Elements\n",
          "\n",
          "An `Ordering` behaves like a vector of keys."
        ]
      },
      {
        "cell_type": "code",
        "execution_count": null,
        "metadata": {
          "id": "ordering_access_code",
          "colab": {
            "base_uri": "https://localhost:8080/"
          },
          "outputId": "89abcdef-0123-4567-89ab-cdef01234567"
        },
        "outputs": [
          {
            "name": "stdout",
            "output_type": "stream",
            "text": [
              "Ordering size: 5\n",
              "Key at position 0: x0\n",
              "Key at position 2: x1\n",
              "Iterating through ordering:\n",
              "  x0\n",
              "  l1\n",
              "  x1\n",
              "  l2\n",
              "  x2\n",
              "Inverted map (Key -> Position):\n",
              "  x0 -> 0\n",
              "  l1 -> 1\n",
              "  x1 -> 2\n",
              "  l2 -> 3\n",
              "  x2 -> 4\n"
            ]
          }
        ],
        "source": [
          "print(f\"Ordering size: {colamd_ordering.size()}\")\n",
          "\n",
          "# Access by index\n",
          "key_at_0 = colamd_ordering.at(0)\n",
          "key_at_2 = colamd_ordering[2] # Also supports [] operator\n",
          "print(f\"Key at position 0: {gtsam.DefaultKeyFormatter(key_at_0)}\")\n",
          "print(f\"Key at position 2: {gtsam.DefaultKeyFormatter(key_at_2)}\")\n",
          "\n",
          "# Iterate through the ordering\n",
          "print(\"Iterating through ordering:\")\n",
          "for key in colamd_ordering:\n",
          "    print(f\"  {gtsam.DefaultKeyFormatter(key)}\")\n",
          "\n",
          "# Invert the ordering (map from Key to its position)\n",
          "inverted = colamd_ordering.invert()\n",
          "print(\"Inverted map (Key -> Position):\")\n",
          "for key, pos in inverted.items():\n",
          "    print(f\"  {gtsam.DefaultKeyFormatter(key)} -> {pos}\")"
        ]
      },
      {
        "cell_type": "markdown",
        "metadata": {
          "id": "ordering_append_md"
        },
        "source": [
          "## Appending Keys\n",
          "\n",
          "You can append keys using `push_back`, `+=`, or `,`."
        ]
      },
      {
        "cell_type": "code",
        "execution_count": null,
        "metadata": {
          "id": "ordering_append_code",
          "colab": {
            "base_uri": "https://localhost:8080/"
          },
          "outputId": "9abcdef0-1234-5678-9abc-def012345678"
        },
        "outputs": [
          {
            "name": "stdout",
            "output_type": "stream",
            "text": [
              "Appended Ordering: \n",
              "Position 0: x0\n",
              "Position 1: l1\n",
              "Position 2: x1\n",
              "Position 3: l2\n",
              "Position 4: x2\n",
              "Position 5: l0\n",
              "Position 6: x3\n"
            ]
          }
        ],
        "source": [
          "appended_ordering = Ordering(colamd_ordering)\n",
          "appended_ordering.push_back(L(0))\n",
          "appended_ordering += X(3)\n",
          "# appended_ordering += L(0), X(3) # Can also chain\n",
          "\n",
          "appended_ordering.print(\"Appended Ordering: \")"
        ]
      }
    ],
    "metadata": {
      "colab": {
        "provenance": []
      },
      "kernelspec": {
        "display_name": "Python 3",
        "name": "python3"
      },
      "language_info": {
        "name": "python"
      }
    },
    "nbformat": 4,
    "nbformat_minor": 0
  }