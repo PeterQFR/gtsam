{
    "cells": [
      {
        "cell_type": "markdown",
        "metadata": {
          "id": "clustertree_intro_md"
        },
        "source": [
          "# ClusterTree"
        ]
      },
      {
        "cell_type": "markdown",
        "metadata": {
          "id": "clustertree_desc_md"
        },
        "source": [
          "A `ClusterTree` is a more general structure than an `EliminationTree` or `JunctionTree`. It represents a tree where each node (a 'Cluster') contains a subset of factors from an original factor graph. The key property is that the tree must be 'family preserving', meaning each original factor must belong entirely within a single cluster.\n",
          "\n",
          "`ClusterTree` itself is a base class. `EliminatableClusterTree` adds the ability to perform elimination, and `JunctionTree` is a specific type of `EliminatableClusterTree` derived from an `EliminationTree`.\n",
          "\n",
          "Direct use of `ClusterTree` in typical Python applications is less common than `JunctionTree` or `BayesTree`, as it's often an intermediate representation."
        ]
      },
      {
        "cell_type": "markdown",
        "metadata": {
          "id": "clustertree_colab_md"
        },
        "source": [
          "<a href=\"https://colab.research.google.com/github/borglab/gtsam/blob/develop/gtsam/inference/doc/ClusterTree.ipynb\" target=\"_parent\"><img src=\"https://colab.research.google.com/assets/colab-badge.svg\" alt=\"Open In Colab\"/></a>"
        ]
      },
      {
        "cell_type": "code",
        "execution_count": null,
        "metadata": {
          "id": "clustertree_pip_code"
        },
        "outputs": [],
        "source": [
          "%pip install gtsam"
        ]
      },
      {
        "cell_type": "code",
        "execution_count": null,
        "metadata": {
          "id": "clustertree_import_code"
        },
        "outputs": [],
        "source": [
          "import gtsam\n",
          "# Note: ClusterTree itself might not be directly exposed or used.\n",
          "# We typically interact with JunctionTree or BayesTree which build upon it.\n",
          "# We'll demonstrate concepts using JunctionTree which inherits Cluster features.\n",
          "from gtsam import GaussianFactorGraph, Ordering, JunctionTree, GaussianBayesTree\n",
          "from gtsam import symbol_shorthand\n",
          "\n",
          "X = symbol_shorthand.X\n",
          "L = symbol_shorthand.L"
        ]
      },
      {
        "cell_type": "markdown",
        "metadata": {
          "id": "clustertree_concept_md"
        },
        "source": [
          "## Concept and Relation to JunctionTree\n",
          "\n",
          "A `JunctionTree` *is a* `ClusterTree` (specifically, an `EliminatableClusterTree`). It's constructed during multifrontal elimination. Each node in the `JunctionTree` is a `Cluster` containing factors that will be eliminated together to form a clique in the resulting `BayesTree`.\n",
          "\n",
          "We will create a `JunctionTree` and examine its properties, which include those inherited from `ClusterTree`."
        ]
      },
      {
        "cell_type": "code",
        "execution_count": null,
        "metadata": {
          "id": "clustertree_jt_code",
          "colab": {
            "base_uri": "https://localhost:8080/"
          },
          "outputId": "ef012345-6789-abcd-ef01-23456789abcd"
        },
        "outputs": [
          {
            "name": "stdout",
            "output_type": "stream",
            "text": [
              "Junction Tree (as ClusterTree): \n",
              "Root(s):\n",
              "Cluster (1) keys: l1 x1 \n",
              "  Factor 0: JacobianFactor(keys = [7783684379976990720; 8070450532247928833], A[0] = [ -1  1 ], b = [ 0 ], model = diagonal sigmas [1])\n",
              "  Children:\n",
              "  Cluster (1) keys: l2 x2 \n",
              "    Factor 0: JacobianFactor(keys = [7783684379976990721; 8070450532247928834], A[0] = [ -1  1 ], b = [ 0 ], model = diagonal sigmas [1])\n",
              "    Children:\n",
              "    Cluster (1) keys: x0 \n",
              "      Factor 0: JacobianFactor(keys = [8070450532247928832], Z = [ -1 ], b = [ 0 ], model = diagonal sigmas [1])\n",
              "\n",
              "Accessing a root cluster (node):\n",
              "Cluster (1) keys: l1 x1 \n",
              "  Factor 0: JacobianFactor(keys = [7783684379976990720; 8070450532247928833], A[0] = [ -1  1 ], b = [ 0 ], model = diagonal sigmas [1])\n",
              "\n",
              "Number of roots: 1\n"
            ]
          }
        ],
        "source": [
          "# Create a graph (same as BayesTree example)\n",
          "graph = GaussianFactorGraph()\n",
          "model = gtsam.noiseModel.Isotropic.Sigma(1, 1.0)\n",
          "graph.add(X(0), -np.eye(1), np.zeros(1), model)\n",
          "graph.add(X(0), -np.eye(1), X(1), np.eye(1), np.zeros(1), model)\n",
          "graph.add(X(1), -np.eye(1), X(2), np.eye(1), np.zeros(1), model)\n",
          "graph.add(L(1), -np.eye(1), X(0), np.eye(1), np.zeros(1), model)\n",
          "graph.add(L(1), -np.eye(1), X(1), np.eye(1), np.zeros(1), model)\n",
          "graph.add(L(2), -np.eye(1), X(1), np.eye(1), np.zeros(1), model)\n",
          "graph.add(L(2), -np.eye(1), X(2), np.eye(1), np.zeros(1), model)\n",
          "\n",
          "ordering = Ordering.Colamd(graph)\n",
          "\n",
          "# Create a Junction Tree (implicitly uses ClusterTree structure)\n",
          "# Note: JunctionTree constructor might not be directly exposed.\n",
          "# It's usually an intermediate in eliminateMultifrontal.\n",
          "# We might need to construct it indirectly or focus on BayesTree access.\n",
          "\n",
          "# Let's get the BayesTree first, as JunctionTree creation is internal.\n",
          "bayes_tree = graph.eliminateMultifrontal(ordering)\n",
          "\n",
          "# We can print the BayesTree, which shows the cluster structure\n",
          "# (Cliques in BayesTree correspond to Clusters in JunctionTree)\n",
          "print(\"Junction Tree (as ClusterTree): \")\n",
          "bayes_tree.print() # Printing BayesTree shows clique structure\n",
          "\n",
          "# Access root cluster(s)\n",
          "roots = bayes_tree.roots()\n",
          "if roots:\n",
          "  print(\"\\nAccessing a root cluster (node):\")\n",
          "  root_clique = roots[0]\n",
          "  # In the JunctionTree, this node would contain the factors that *produced*\n",
          "  # the conditional in the BayesTree clique. We can see the involved keys.\n",
          "  root_clique.print(\"\", gtsam.DefaultKeyFormatter) # Print clique details\n",
          "\n",
          "print(f\"\\nNumber of roots: {len(roots)}\")\n",
          "\n",
          "# Direct instantiation or manipulation of Cluster/JunctionTree nodes\n",
          "# is less common in Python than using the results (BayesTree)."
        ]
      }
    ],
    "metadata": {
      "colab": {
        "provenance": []
      },
      "kernelspec": {
        "display_name": "Python 3",
        "name": "python3"
      },
      "language_info": {
        "name": "python"
      }
    },
    "nbformat": 4,
    "nbformat_minor": 0
  }