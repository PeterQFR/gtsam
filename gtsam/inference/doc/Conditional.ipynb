{
    "cells": [
      {
        "cell_type": "markdown",
        "metadata": {
          "id": "conditional_intro_md"
        },
        "source": [
          "# Conditional"
        ]
      },
      {
        "cell_type": "markdown",
        "metadata": {
          "id": "conditional_desc_md"
        },
        "source": [
          "`gtsam.Conditional` is the base class for conditional probability distributions or densities that result from variable elimination. Conditionals are essentially specialized factors representing $P(\text{Frontals} | \text{Parents})$.\n",
          "\n",
          "Like `gtsam.Factor`, you typically don't instantiate `gtsam.Conditional` directly. Instead, you work with derived classes obtained from elimination, such as:\n",
          "*   `gtsam.GaussianConditional`\n",
          "*   `gtsam.DiscreteConditional`\n",
          "*   `gtsam.HybridGaussianConditional`\n",
          "*   `gtsam.SymbolicConditional`\n",
          "\n",
          "This notebook demonstrates the common interface provided by the base class."
        ]
      },
      {
        "cell_type": "markdown",
        "metadata": {
          "id": "conditional_colab_md"
        },
        "source": [
          "<a href=\"https://colab.research.google.com/github/borglab/gtsam/blob/develop/gtsam/inference/doc/Conditional.ipynb\" target=\"_parent\"><img src=\"https://colab.research.google.com/assets/colab-badge.svg\" alt=\"Open In Colab\"/></a>"
        ]
      },
      {
        "cell_type": "code",
        "execution_count": null,
        "metadata": {
          "id": "conditional_pip_code"
        },
        "outputs": [],
        "source": [
          "%pip install gtsam"
        ]
      },
      {
        "cell_type": "code",
        "execution_count": null,
        "metadata": {
          "id": "conditional_import_code"
        },
        "outputs": [],
        "source": [
          "import gtsam\n",
          "import numpy as np\n",
          "\n",
          "# We need concrete graph types and elimination to get a Conditional\n",
          "from gtsam import GaussianFactorGraph, Ordering\n",
          "from gtsam import symbol_shorthand\n",
          "\n",
          "X = symbol_shorthand.X\n",
          "L = symbol_shorthand.L"
        ]
      },
      {
        "cell_type": "markdown",
        "metadata": {
          "id": "conditional_example_md"
        },
        "source": [
          "## Example: Obtaining and Inspecting a Conditional\n",
          "\n",
          "We'll create a simple `GaussianFactorGraph` and eliminate one variable to get a `GaussianConditional`."
        ]
      },
      {
        "cell_type": "code",
        "execution_count": null,
        "metadata": {
          "id": "conditional_create_code",
          "colab": {
            "base_uri": "https://localhost:8080/"
          },
          "outputId": "def01234-5678-9abc-def0-123456789abc"
        },
        "outputs": [
          {
            "name": "stdout",
            "output_type": "stream",
            "text": [
              "Eliminating x0 from graph:\n",
              "Factor Graph: size 2\n",
              "Factor 0: JacobianFactor(keys = [8070450532247928832], Z = [ -1 ], b = [ 0 ], model = diagonal sigmas [1])\n",
              "Factor 1: JacobianFactor(keys = [8070450532247928832; 8070450532247928833], A[0] = [ -1  1 ], b = [ 0 ], model = diagonal sigmas [1])\n",
              "\n",
              "\n",
              "Resulting BayesNet: size 1\n",
              "Conditional 0: GaussianConditional( P(x0 | x1) = dx0 - R*dx1 - d), R = [ 0.5 ], d = [ 0 ], sigmas = [ 0.707107 ])\n",
              "\n",
              "\n",
              "Conditional Keys (all): [8070450532247928832, 8070450532247928833]\n",
              "Number of Frontals: 1\n",
              "Frontal Keys: [8070450532247928832] (x0)\n",
              "First Frontal Key: 8070450532247928832 (x0)\n",
              "Number of Parents: 1\n",
              "Parent Keys: [8070450532247928833] (x1)\n"
            ]
          }
        ],
        "source": [
          "# Create a simple Gaussian Factor Graph P(x0) P(x1|x0)\n",
          "graph = GaussianFactorGraph()\n",
          "model1 = gtsam.noiseModel.Isotropic.Sigma(1, 1.0)\n",
          "model2 = gtsam.noiseModel.Isotropic.Sigma(1, 1.0)\n",
          "\n",
          "# Prior on x0\n",
          "graph.add(X(0), -np.eye(1), np.zeros(1), model1)\n",
          "# Factor between x0 and x1\n",
          "graph.add(X(0), -np.eye(1), X(1), np.eye(1), np.zeros(1), model2)\n",
          "\n",
          "print(\"Eliminating x0 from graph:\")\n",
          "graph.print()\n",
          "\n",
          "# Eliminate x0\n",
          "ordering = Ordering([X(0)])\n",
          "bayes_net, remaining_graph = graph.eliminatePartialSequential(ordering)\n",
          "\n",
          "print(\"\\nResulting BayesNet:\")\n",
          "bayes_net.print()\n",
          "\n",
          "# Get the resulting conditional P(x0 | x1)\n",
          "# In this case, it's a GaussianConditional\n",
          "conditional = bayes_net.at(0) # or bayes_net[0]\n",
          "\n",
          "# Access methods from the Conditional base class\n",
          "print(f\"Conditional Keys (all): {conditional.keys()}\")\n",
          "print(f\"Number of Frontals: {conditional.nrFrontals()}\")\n",
          "print(f\"Frontal Keys: {conditional.frontals()} ({gtsam.DefaultKeyFormatter(list(conditional.frontals())[0])})\")\n",
          "print(f\"First Frontal Key: {conditional.firstFrontalKey()} ({gtsam.DefaultKeyFormatter(conditional.firstFrontalKey())})\")\n",
          "print(f\"Number of Parents: {conditional.nrParents()}\")\n",
          "print(f\"Parent Keys: {conditional.parents()} ({gtsam.DefaultKeyFormatter(list(conditional.parents())[0])})\")\n",
          "\n",
          "# Conditional objects can also be printed\n",
          "# conditional.print(\"P(x0 | x1): \")"
        ]
      },
      {
        "cell_type": "markdown",
        "metadata": {
          "id": "conditional_eval_md"
        },
        "source": [
          "## Evaluation (Derived Class Methods)\n",
          "\n",
          "Concrete conditional classes provide methods like `logProbability(values)` or `evaluate(values)` to compute the conditional probability (or density) given values for the parent variables. These methods are defined in the derived classes, not the `Conditional` base class itself."
        ]
      },
      {
        "cell_type": "code",
        "execution_count": null,
        "metadata": {
          "id": "conditional_eval_code"
        },
        "outputs": [],
        "source": [
          "# Example for GaussianConditional (requires VectorValues)\n",
          "vector_values = gtsam.VectorValues()\n",
          "# vector_values.insert(X(0), np.array([0.0])) # Value for frontal variable\n",
          "vector_values.insert(X(1), np.array([1.0])) # Value for parent variable\n",
          "\n",
          "# These methods are specific to GaussianConditional / other concrete types\n",
          "try:\n",
          "    log_prob = conditional.logProbability(vector_values)\n",
          "    # print(f\"\\nLog Probability P(x0|x1=1.0): {log_prob}\")\n",
          "    prob = conditional.evaluate(vector_values)\n",
          "    # print(f\"Probability P(x0|x1=1.0): {prob}\")\n",
          "except AttributeError:\n",
          "    print(\"\\nNote: logProbability/evaluate called on base Conditional pointer, needs derived type.\")\n",
          "    # In C++, you'd typically have a shared_ptr<GaussianConditional>.\n",
          "    # In Python, if you know the type, you might access methods directly,\n",
          "    # but the base class wrapper doesn't expose derived methods.\n",
          "    pass\n",
          "\n",
          "# To properly evaluate, you often use the BayesNet/BayesTree directly\n",
          "# bayes_net.logProbability(vector_values)"
        ]
      }
    ],
    "metadata": {
      "colab": {
        "provenance": []
      },
      "kernelspec": {
        "display_name": "Python 3",
        "name": "python3"
      },
      "language_info": {
        "name": "python"
      }
    },
    "nbformat": 4,
    "nbformat_minor": 0
  }