{
    "cells": [
      {
        "cell_type": "markdown",
        "metadata": {
          "id": "symbol_intro_md"
        },
        "source": [
          "# Symbol"
        ]
      },
      {
        "cell_type": "markdown",
        "metadata": {
          "id": "symbol_desc_md"
        },
        "source": [
          "A `Symbol` is a GTSAM class used to create semantically meaningful keys (`gtsam.Key`) for variables. It combines a character (`unsigned char`) and an index (`uint64_t`) into a single 64-bit integer key. This allows for easy identification of variable types and their indices, e.g., 'x' for poses and 'l' for landmarks, like `x0`, `x1`, `l0`."
        ]
      },
      {
        "cell_type": "markdown",
        "metadata": {
          "id": "symbol_colab_md"
        },
        "source": [
          "<a href=\"https://colab.research.google.com/github/borglab/gtsam/blob/develop/gtsam/inference/doc/Symbol.ipynb\" target=\"_parent\"><img src=\"https://colab.research.google.com/assets/colab-badge.svg\" alt=\"Open In Colab\"/></a>"
        ]
      },
      {
        "cell_type": "code",
        "execution_count": null,
        "metadata": {
          "id": "symbol_pip_code"
        },
        "outputs": [],
        "source": [
          "%pip install gtsam"
        ]
      },
      {
        "cell_type": "code",
        "execution_count": null,
        "metadata": {
          "id": "symbol_import_code"
        },
        "outputs": [],
        "source": [
          "import gtsam\n",
          "from gtsam import Symbol"
        ]
      },
      {
        "cell_type": "markdown",
        "metadata": {
          "id": "symbol_init_md"
        },
        "source": [
          "## Initialization\n",
          "\n",
          "A `Symbol` can be created by providing a character and an index. It can also be created by decoding an existing `gtsam.Key` (integer)."
        ]
      },
      {
        "cell_type": "code",
        "execution_count": null,
        "metadata": {
          "id": "symbol_create_code",
          "colab": {
            "base_uri": "https://localhost:8080/"
          },
          "outputId": "c1d2e3f4-a5b6-7890-bcde-f12345678901"
        },
        "outputs": [
          {
            "name": "stdout",
            "output_type": "stream",
            "text": [
              "Symbol from char/index: x5\n",
              "Symbol from key 8070450532247928837: x5\n"
            ]
          }
        ],
        "source": [
          "# Create Symbol 'x' with index 5\n",
          "sym1 = Symbol('x', 5)\n",
          "print(f\"Symbol from char/index: {sym1.string()}\")\n",
          "\n",
          "# Get the underlying integer key\n",
          "key1 = sym1.key()\n",
          "\n",
          "# Reconstruct Symbol from the key\n",
          "sym2 = Symbol(key1)\n",
          "print(f\"Symbol from key {key1}: {sym2.string()}\")"
        ]
      },
      {
        "cell_type": "markdown",
        "metadata": {
          "id": "symbol_props_md"
        },
        "source": [
          "## Properties and Usage\n",
          "\n",
          "You can access the character, index, and underlying integer key."
        ]
      },
      {
        "cell_type": "code",
        "execution_count": null,
        "metadata": {
          "id": "symbol_access_code",
          "colab": {
            "base_uri": "https://localhost:8080/"
          },
          "outputId": "d2e3f4a5-b6c7-8901-cdef-123456789012"
        },
        "outputs": [
          {
            "name": "stdout",
            "output_type": "stream",
            "text": [
              "Symbol: l10\n",
              "  Char: l\n",
              "  Index: 10\n",
              "  Key: 7783684379976990730\n"
            ]
          }
        ],
        "source": [
          "landmark_sym = Symbol('l', 10)\n",
          "\n",
          "print(f\"Symbol: {landmark_sym.string()}\")\n",
          "print(f\"  Char: {landmark_sym.chr()}\")\n",
          "print(f\"  Index: {landmark_sym.index()}\")\n",
          "print(f\"  Key: {landmark_sym.key()}\")\n",
          "\n",
          "# Symbols are often used directly where Keys are expected in GTSAM functions,\n",
          "# as they implicitly convert.\n",
          "# e.g., values.insert(landmark_sym, gtsam.Point3(1,2,3))"
        ]
      },
      {
        "cell_type": "markdown",
        "metadata": {
          "id": "symbol_shorthand_md"
        },
        "source": [
          "## Shorthand Functions\n",
          "\n",
          "GTSAM provides convenient shorthand functions `gtsam.symbol_shorthand.X(j)`, `gtsam.symbol_shorthand.L(j)`, etc., which are equivalent to `gtsam.Symbol('x', j)`, `gtsam.Symbol('l', j)`."
        ]
      },
      {
        "cell_type": "code",
        "execution_count": null,
        "metadata": {
          "id": "symbol_shorthand_code",
          "colab": {
            "base_uri": "https://localhost:8080/"
          },
          "outputId": "e3f4a5b6-c7d8-9012-def0-234567890123"
        },
        "outputs": [
          {
            "name": "stdout",
            "output_type": "stream",
            "text": [
              "Symbol('x', 0).key() == gtsam.symbol_shorthand.X(0): True\n",
              "Symbol('l', 1).key() == gtsam.symbol_shorthand.L(1): True\n"
            ]
          }
        ],
        "source": [
          "from gtsam import symbol_shorthand\n",
          "\n",
          "x0_key = symbol_shorthand.X(0)\n",
          "l1_key = symbol_shorthand.L(1)\n",
          "\n",
          "print(f\"Symbol('x', 0).key() == gtsam.symbol_shorthand.X(0): {Symbol('x', 0).key() == x0_key}\")\n",
          "print(f\"Symbol('l', 1).key() == gtsam.symbol_shorthand.L(1): {Symbol('l', 1).key() == l1_key}\")"
        ]
      }
    ],
    "metadata": {
      "colab": {
        "provenance": []
      },
      "kernelspec": {
        "display_name": "Python 3",
        "name": "python3"
      },
      "language_info": {
        "name": "python"
      }
    },
    "nbformat": 4,
    "nbformat_minor": 0
  }