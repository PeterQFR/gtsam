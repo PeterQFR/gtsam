{
  "cells": [
    {
      "cell_type": "markdown",
      "metadata": {
        "id": "isam_intro_md"
      },
      "source": [
        "# ISAM"
      ]
    },
    {
      "cell_type": "markdown",
      "metadata": {
        "id": "isam_desc_md"
      },
      "source": [
        "`gtsam.ISAM` (Incremental Smoothing and Mapping) is a class that inherits from `BayesTree` and adds an `update` method. This method allows for efficient incremental updates to the solution when new factors (e.g., new measurements) are added to the problem.\n",
        "\n",
        "Instead of re-eliminating the entire factor graph from scratch, iSAM identifies the part of the Bayes tree affected by the new factors, removes that part, and re-eliminates only the necessary variables, merging the results back into the existing tree.\n",
        "\n",
        "Like `BayesTree`, it's templated (e.g., `GaussianISAM` which inherits from `GaussianBayesTree`). For practical applications requiring incremental updates, `ISAM2` is often preferred due to further optimizations like fluid relinearization and support for variable removal, but `ISAM` demonstrates the core incremental update concept based on the Bayes tree."
      ]
    },
    {
      "cell_type": "markdown",
      "metadata": {
        "id": "isam_colab_md"
      },
      "source": [
        "<a href=\"https://colab.research.google.com/github/borglab/gtsam/blob/develop/gtsam/inference/doc/ISAM.ipynb\" target=\"_parent\"><img src=\"https://colab.research.google.com/assets/colab-badge.svg\" alt=\"Open In Colab\"/></a>"
      ]
    },
    {
      "cell_type": "code",
      "execution_count": null,
      "metadata": {
        "id": "isam_pip_code"
      },
      "outputs": [],
      "source": [
        "%pip install gtsam"
      ]
    },
    {
      "cell_type": "code",
      "execution_count": 2,
      "metadata": {
        "id": "isam_import_code"
      },
      "outputs": [],
      "source": [
        "import gtsam\n",
        "import numpy as np\n",
        "\n",
        "# Use Gaussian variants for demonstration\n",
        "from gtsam import GaussianFactorGraph, Ordering, GaussianISAM, GaussianBayesTree\n",
        "from gtsam import symbol_shorthand\n",
        "\n",
        "X = symbol_shorthand.X\n",
        "L = symbol_shorthand.L"
      ]
    },
    {
      "cell_type": "markdown",
      "metadata": {
        "id": "isam_create_md"
      },
      "source": [
        "## Initialization\n",
        "\n",
        "An `ISAM` object can be created empty or initialized from an existing `BayesTree`."
      ]
    },
    {
      "cell_type": "code",
      "execution_count": 5,
      "metadata": {
        "colab": {
          "base_uri": "https://localhost:8080/"
        },
        "id": "isam_init_code",
        "outputId": "89abcdef-0123-4567-89ab-cdef01234567"
      },
      "outputs": [
        {
          "name": "stdout",
          "output_type": "stream",
          "text": [
            "Initial BayesTree:\n",
            ": cliques: 1, variables: 1\n",
            "- p(x0)\n",
            "  R = [ 1 ]\n",
            "  d = [ 0 ]\n",
            "  mean: 1 elements\n",
            "  x0: 0\n",
            "  logNormalizationConstant: -0.918939\n",
            "  No noise model\n"
          ]
        },
        {
          "ename": "TypeError",
          "evalue": "__init__(): incompatible constructor arguments. The following argument types are supported:\n    1. gtsam.gtsam.GaussianISAM()\n\nInvoked with: : cliques: 1, variables: 1\n- p(x0)\n  R = [ 1 ]\n  d = [ 0 ]\n  mean: 1 elements\n  x0: 0\n  logNormalizationConstant: -0.918939\n  No noise model\n",
          "output_type": "error",
          "traceback": [
            "\u001b[1;31m---------------------------------------------------------------------------\u001b[0m",
            "\u001b[1;31mTypeError\u001b[0m                                 Traceback (most recent call last)",
            "Cell \u001b[1;32mIn[5], line 13\u001b[0m\n\u001b[0;32m     10\u001b[0m \u001b[38;5;28mprint\u001b[39m(\u001b[38;5;124m\"\u001b[39m\u001b[38;5;124mInitial BayesTree:\u001b[39m\u001b[38;5;124m\"\u001b[39m)\n\u001b[0;32m     11\u001b[0m initial_bayes_tree\u001b[38;5;241m.\u001b[39mprint()\n\u001b[1;32m---> 13\u001b[0m isam2 \u001b[38;5;241m=\u001b[39m \u001b[43mGaussianISAM\u001b[49m\u001b[43m(\u001b[49m\u001b[43minitial_bayes_tree\u001b[49m\u001b[43m)\u001b[49m\n\u001b[0;32m     14\u001b[0m \u001b[38;5;28mprint\u001b[39m(\u001b[38;5;124m\"\u001b[39m\u001b[38;5;124mISAM from BayesTree:\u001b[39m\u001b[38;5;124m\"\u001b[39m)\n\u001b[0;32m     15\u001b[0m isam2\u001b[38;5;241m.\u001b[39mprint()\n",
            "\u001b[1;31mTypeError\u001b[0m: __init__(): incompatible constructor arguments. The following argument types are supported:\n    1. gtsam.gtsam.GaussianISAM()\n\nInvoked with: : cliques: 1, variables: 1\n- p(x0)\n  R = [ 1 ]\n  d = [ 0 ]\n  mean: 1 elements\n  x0: 0\n  logNormalizationConstant: -0.918939\n  No noise model\n"
          ]
        }
      ],
      "source": [
        "# Create an empty ISAM object\n",
        "isam1 = GaussianISAM()\n",
        "\n",
        "# Create from an existing Bayes Tree (e.g., from an initial batch solve)\n",
        "initial_graph = GaussianFactorGraph()\n",
        "model = gtsam.noiseModel.Isotropic.Sigma(1, 1.0)\n",
        "initial_graph.add(X(0), -np.eye(1), np.zeros(1), model) # Prior on x0\n",
        "\n",
        "initial_bayes_tree = initial_graph.eliminateMultifrontal(Ordering([X(0)]))\n",
        "print(\"Initial BayesTree:\")\n",
        "initial_bayes_tree.print()\n",
        "\n",
        "isam2 = GaussianISAM(initial_bayes_tree)\n",
        "print(\"ISAM from BayesTree:\")\n",
        "isam2.print()"
      ]
    },
    {
      "cell_type": "markdown",
      "metadata": {
        "id": "isam_update_md"
      },
      "source": [
        "## Incremental Update\n",
        "\n",
        "The core functionality is the `update(newFactors)` method."
      ]
    },
    {
      "cell_type": "code",
      "execution_count": 6,
      "metadata": {
        "colab": {
          "base_uri": "https://localhost:8080/"
        },
        "id": "isam_update_code",
        "outputId": "9abcdef0-1234-5678-9abc-def012345678"
      },
      "outputs": [
        {
          "ename": "TypeError",
          "evalue": "__init__(): incompatible constructor arguments. The following argument types are supported:\n    1. gtsam.gtsam.GaussianISAM()\n\nInvoked with: : cliques: 1, variables: 1\n- p(x0)\n  R = [ 1 ]\n  d = [ 0 ]\n  mean: 1 elements\n  x0: 0\n  logNormalizationConstant: -0.918939\n  No noise model\n",
          "output_type": "error",
          "traceback": [
            "\u001b[1;31m---------------------------------------------------------------------------\u001b[0m",
            "\u001b[1;31mTypeError\u001b[0m                                 Traceback (most recent call last)",
            "Cell \u001b[1;32mIn[6], line 2\u001b[0m\n\u001b[0;32m      1\u001b[0m \u001b[38;5;66;03m# Start with the ISAM object containing the prior on x0\u001b[39;00m\n\u001b[1;32m----> 2\u001b[0m isam \u001b[38;5;241m=\u001b[39m \u001b[43mGaussianISAM\u001b[49m\u001b[43m(\u001b[49m\u001b[43minitial_bayes_tree\u001b[49m\u001b[43m)\u001b[49m\n\u001b[0;32m      3\u001b[0m model \u001b[38;5;241m=\u001b[39m gtsam\u001b[38;5;241m.\u001b[39mnoiseModel\u001b[38;5;241m.\u001b[39mIsotropic\u001b[38;5;241m.\u001b[39mSigma(\u001b[38;5;241m1\u001b[39m, \u001b[38;5;241m1.0\u001b[39m)\n\u001b[0;32m      5\u001b[0m \u001b[38;5;66;03m# --- First Update ---\u001b[39;00m\n",
            "\u001b[1;31mTypeError\u001b[0m: __init__(): incompatible constructor arguments. The following argument types are supported:\n    1. gtsam.gtsam.GaussianISAM()\n\nInvoked with: : cliques: 1, variables: 1\n- p(x0)\n  R = [ 1 ]\n  d = [ 0 ]\n  mean: 1 elements\n  x0: 0\n  logNormalizationConstant: -0.918939\n  No noise model\n"
          ]
        }
      ],
      "source": [
        "# Start with the ISAM object containing the prior on x0\n",
        "isam = GaussianISAM(initial_bayes_tree)\n",
        "model = gtsam.noiseModel.Isotropic.Sigma(1, 1.0)\n",
        "\n",
        "# --- First Update ---\n",
        "new_factors1 = GaussianFactorGraph()\n",
        "new_factors1.add(X(0), -np.eye(1), X(1), np.eye(1), np.zeros(1), model) # x0 -> x1\n",
        "isam.update(new_factors1)\n",
        "\n",
        "print(\"ISAM after first update (x0, x1):\")\n",
        "isam.print()\n",
        "\n",
        "# --- Second Update ---\n",
        "new_factors2 = GaussianFactorGraph()\n",
        "new_factors2.add(X(1), -np.eye(1), X(2), np.eye(1), np.zeros(1), model) # x1 -> x2\n",
        "isam.update(new_factors2)\n",
        "\n",
        "print(\"\\nISAM after second update (x0, x1, x2):\")\n",
        "isam.print()"
      ]
    },
    {
      "cell_type": "markdown",
      "metadata": {
        "id": "isam_solve_md"
      },
      "source": [
        "## Solution and Marginals\n",
        "\n",
        "Since `ISAM` inherits from `BayesTree`, you can use the same methods like `optimize()` and `marginalFactor()` after performing updates."
      ]
    },
    {
      "cell_type": "code",
      "execution_count": 7,
      "metadata": {
        "colab": {
          "base_uri": "https://localhost:8080/"
        },
        "id": "isam_solve_code",
        "outputId": "abcdef01-2345-6789-abcd-ef0123456789"
      },
      "outputs": [
        {
          "ename": "NameError",
          "evalue": "name 'isam' is not defined",
          "output_type": "error",
          "traceback": [
            "\u001b[1;31m---------------------------------------------------------------------------\u001b[0m",
            "\u001b[1;31mNameError\u001b[0m                                 Traceback (most recent call last)",
            "Cell \u001b[1;32mIn[7], line 2\u001b[0m\n\u001b[0;32m      1\u001b[0m \u001b[38;5;66;03m# Get the solution from the final ISAM state\u001b[39;00m\n\u001b[1;32m----> 2\u001b[0m solution \u001b[38;5;241m=\u001b[39m \u001b[43misam\u001b[49m\u001b[38;5;241m.\u001b[39moptimize()\n\u001b[0;32m      3\u001b[0m \u001b[38;5;28mprint\u001b[39m(\u001b[38;5;124m\"\u001b[39m\u001b[38;5;124mOptimized Solution after updates:\u001b[39m\u001b[38;5;124m\"\u001b[39m)\n\u001b[0;32m      4\u001b[0m solution\u001b[38;5;241m.\u001b[39mprint()\n",
            "\u001b[1;31mNameError\u001b[0m: name 'isam' is not defined"
          ]
        }
      ],
      "source": [
        "# Get the solution from the final ISAM state\n",
        "solution = isam.optimize()\n",
        "print(\"Optimized Solution after updates:\")\n",
        "solution.print()"
      ]
    }
  ],
  "metadata": {
    "colab": {
      "provenance": []
    },
    "kernelspec": {
      "display_name": "gtsam",
      "language": "python",
      "name": "python3"
    },
    "language_info": {
      "codemirror_mode": {
        "name": "ipython",
        "version": 3
      },
      "file_extension": ".py",
      "mimetype": "text/x-python",
      "name": "python",
      "nbconvert_exporter": "python",
      "pygments_lexer": "ipython3",
      "version": "3.13.1"
    }
  },
  "nbformat": 4,
  "nbformat_minor": 0
}
