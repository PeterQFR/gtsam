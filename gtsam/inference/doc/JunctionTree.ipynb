{
    "cells": [
      {
        "cell_type": "markdown",
        "metadata": {
          "id": "jtree_intro_md"
        },
        "source": [
          "# JunctionTree"
        ]
      },
      {
        "cell_type": "markdown",
        "metadata": {
          "id": "jtree_desc_md"
        },
        "source": [
          "A `JunctionTree` is an intermediate data structure used in GTSAM's multifrontal variable elimination. It is a `ClusterTree` where each node (cluster) corresponds to a clique in the chordal graph formed during elimination.\n",
          "\n",
          "Key differences from related structures:\n",
          "*   **vs. EliminationTree:** Junction tree nodes can represent the elimination of multiple variables simultaneously (a 'frontal' set), whereas elimination tree nodes typically represent single variable eliminations.\n",
          "*   **vs. BayesTree:** A JunctionTree node contains the original factors associated with the variables being eliminated in that clique. A BayesTree node contains the *result* of eliminating those factors (i.e., a conditional density $P(\text{Frontals} | \text{Separator})$).\n",
          "\n",
          "Like `EliminationTree`, direct manipulation of `JunctionTree` objects in Python is uncommon. It's primarily an internal structure used by `eliminateMultifrontal` when producing a `BayesTree`."
        ]
      },
      {
        "cell_type": "markdown",
        "metadata": {
          "id": "jtree_colab_md"
        },
        "source": [
          "<a href=\"https://colab.research.google.com/github/borglab/gtsam/blob/develop/gtsam/inference/doc/JunctionTree.ipynb\" target=\"_parent\"><img src=\"https://colab.research.google.com/assets/colab-badge.svg\" alt=\"Open In Colab\"/></a>"
        ]
      },
      {
        "cell_type": "code",
        "execution_count": null,
        "metadata": {
          "id": "jtree_pip_code"
        },
        "outputs": [],
        "source": [
          "%pip install gtsam"
        ]
      },
      {
        "cell_type": "code",
        "execution_count": null,
        "metadata": {
          "id": "jtree_import_code"
        },
        "outputs": [],
        "source": [
          "import gtsam\n",
          "import numpy as np\n",
          "\n",
          "# JunctionTree is templated, need concrete types\n",
          "from gtsam import GaussianFactorGraph, Ordering, GaussianJunctionTree, GaussianBayesTree\n",
          "from gtsam import symbol_shorthand\n",
          "\n",
          "X = symbol_shorthand.X\n",
          "L = symbol_shorthand.L"
        ]
      },
      {
        "cell_type": "markdown",
        "metadata": {
          "id": "jtree_create_md"
        },
        "source": [
          "## Creating a JunctionTree\n",
          "\n",
          "A `JunctionTree` is typically constructed from an `EliminationTree` as part of the multifrontal elimination process. The direct constructor might not be exposed in Python, as it's usually created internally."
        ]
      },
      {
        "cell_type": "code",
        "execution_count": null,
        "metadata": {
          "id": "jtree_create_code",
          "colab": {
            "base_uri": "https://localhost:8080/"
          },
          "outputId": "12345678-9abc-def0-1234-56789abcdef0"
        },
        "outputs": [
          {
            "name": "stdout",
            "output_type": "stream",
            "text": [
              "Resulting BayesTree (structure mirrors JunctionTree):\n",
              ": cliques: 3, variables: 5\n",
              "Root(s):\n",
              "Conditional density P(l1, x1 | l2, x2) = P(l1 | x1) P(x1 | l2, x2) \n",
              "  size: 2\n",
              "  Conditional P(l1 | x1): GaussianConditional( P(l1 | x1) = dl1 - R*dx1 - d), R = [ 0.5 ], d = [ 0 ], sigmas = [ 0.866025 ])\n",
              "\n",
              "  Conditional P(x1 | l2, x2): GaussianConditional( P(x1 | l2, x2) = dx1 - R1*dl2 - R2*dx2 - d), R1 = [ 0.333333 ], R2 = [ 0.333333 ], d = [ 0 ], sigmas = [ 0.745356 ])\n",
              "\n",
              "\n",
              "  Children:\n",
              "  Conditional density P(l2, x2 | x0) = P(l2 | x2) P(x2 | x0) \n",
              "    size: 2\n",
              "    Conditional P(l2 | x2): GaussianConditional( P(l2 | x2) = dl2 - R*dx2 - d), R = [ 0.5 ], d = [ 0 ], sigmas = [ 0.866025 ])\n",
              "\n",
              "    Conditional P(x2 | x0): GaussianConditional( P(x2 | x0) = dx2 - R*dx0 - d), R = [ 0.2 ], d = [ 0 ], sigmas = [ 0.774597 ])\n",
              "\n",
              "\n",
              "    Children:\n",
              "    Conditional density P(x0) = P(x0) \n",
              "      size: 1\n",
              "      Conditional P(x0): GaussianConditional( P(x0) = dx0 - d), d = [ 0 ], sigmas = [ 0.894427 ])\n",
              "\n",
              "\n",
              "\n"
            ]
          }
        ],
        "source": [
          "# Create a graph (same as BayesTree example)\n",
          "graph = GaussianFactorGraph()\n",
          "model = gtsam.noiseModel.Isotropic.Sigma(1, 1.0)\n",
          "graph.add(X(0), -np.eye(1), np.zeros(1), model)\n",
          "graph.add(X(0), -np.eye(1), X(1), np.eye(1), np.zeros(1), model)\n",
          "graph.add(X(1), -np.eye(1), X(2), np.eye(1), np.zeros(1), model)\n",
          "graph.add(L(1), -np.eye(1), X(0), np.eye(1), np.zeros(1), model)\n",
          "graph.add(L(1), -np.eye(1), X(1), np.eye(1), np.zeros(1), model)\n",
          "graph.add(L(2), -np.eye(1), X(1), np.eye(1), np.zeros(1), model)\n",
          "graph.add(L(2), -np.eye(1), X(2), np.eye(1), np.zeros(1), model)\n",
          "\n",
          "ordering = Ordering.Colamd(graph)\n",
          "\n",
          "# Perform multifrontal elimination, which uses a JunctionTree internally\n",
          "bayes_tree, remaining_graph = graph.eliminatePartialMultifrontal(ordering)\n",
          "\n",
          "# The resulting BayesTree reflects the structure of the intermediate JunctionTree\n",
          "print(\"Resulting BayesTree (structure mirrors JunctionTree):\")\n",
          "bayes_tree.print()\n",
          "\n",
          "# Accessing the JunctionTree directly isn't typical in Python workflows.\n",
          "# Its structure is implicitly captured by the BayesTree cliques."
        ]
      }
    ],
    "metadata": {
      "colab": {
        "provenance": []
      },
      "kernelspec": {
        "display_name": "Python 3",
        "name": "python3"
      },
      "language_info": {
        "name": "python"
      }
    },
    "nbformat": 4,
    "nbformat_minor": 0
  }