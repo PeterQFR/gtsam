{
 "cells": [
  {
   "cell_type": "markdown",
   "id": "27cd96fc",
   "metadata": {},
   "source": [
    "# EKF-SLAM using Factor Graphs (SRIF-like)"
   ]
  },
  {
   "cell_type": "markdown",
   "id": "copyright-cell-srif",
   "metadata": {
    "tags": [
     "remove-cell"
    ]
   },
   "source": [
    "GTSAM Copyright 2010-2023, Georgia Tech Research Corporation,\n",
    "Atlanta, Georgia 30332-0415\n",
    "All Rights Reserved\n",
    "Authors: Frank Dellaert, et al. (see THANKS for the full author list)\n",
    "\n",
    "See LICENSE for the license information"
   ]
  },
  {
   "cell_type": "markdown",
   "id": "colab-button-cell-srif",
   "metadata": {},
   "source": [
    "<a href=\"https://colab.research.google.com/github/borglab/gtsam/blob/develop/python/examples/EKF_SLAM.ipynb\" target=\"_parent\"><img src=\"https://colab.research.google.com/assets/colab-badge.svg\" alt=\"Open In Colab\"/></a>"
   ]
  },
  {
   "cell_type": "markdown",
   "id": "intro-srif",
   "metadata": {},
   "source": [
    "This notebook demonstrates 2D SLAM using GTSAM's factor graph tools in an **iterative, filter-like manner**, similar in structure to a Square Root Information Filter (SRIF) or an EKF, but leveraging factor graph elimination instead of explicit matrix operations.\n",
    "\n",
    "**Scenario:**\n",
    "A robot moves in a circular path within a 10x10 meter area containing randomly placed landmarks. It receives noisy odometry and bearing-range measurements.\n",
    "\n",
    "**Factor Graph Filtering Approach:**\n",
    "Instead of maintaining a large state vector and covariance matrix explicitly (like in classic EKF), we use GTSAM's `NonlinearFactorGraph` and `GaussianFactorGraph`:\n",
    "\n",
    "1.  **Belief Representation:** The robot's belief (estimated state and uncertainty) after each step is implicitly represented by a factor graph (or the resulting Bayes Net after elimination).\n",
    "2.  **Prediction:**\n",
    "    *   Start with the factors representing the belief from the *previous* step.\n",
    "    *   Add a new `BetweenFactorPose2` representing the noisy odometry measurement, connecting the previous pose `X(k)` to the new pose `X(k+1)`.\n",
    "    *   Linearize all relevant factors around the current best estimate (`Values`).\n",
    "    *   Eliminate the resulting `GaussianFactorGraph` using an ordering that marginalizes out the previous pose `X(k)`, yielding a `GaussianBayesNet` representing the *predictive* distribution over landmarks and `X(k+1)`.\n",
    "3.  **Update:**\n",
    "    *   Start with the factors representing the *predictive* belief.\n",
    "    *   For each landmark measurement at the new pose `X(k+1)`:\n",
    "        *   If the landmark `L(j)` is new, add it to the `Values` (initial estimate).\n",
    "        *   Add a `BearingRangeFactor2D` connecting `X(k+1)` and `L(j)`.\n",
    "    *   Linearize new/updated factors.\n",
    "    *   Eliminate the `GaussianFactorGraph` to incorporate the measurement information, yielding a `GaussianBayesNet` representing the *posterior* belief.\n",
    "    *   Optimize the final Bayes Net to get the updated state estimate (`Values`).\n",
    "4.  **Iteration:** Repeat prediction and update for each time step.\n",
    "\n",
    "**Enhancements in this version:**\n",
    "*   Simulation code is moved to `simulation.py`.\n",
    "*   Plotting code is moved to `gtsam_plotly.py`.\n",
    "*   The evolving factor graph is displayed at each step using `graphviz`.\n",
    "\n",
    "**Advantages:**\n",
    "*   Leverages GTSAM's robust factor graph machinery.\n",
    "*   Handles non-linearities through iterative linearization (like EKF, but potentially more robust within GTSAM's optimization context).\n",
    "*   Avoids explicit management of large, dense covariance matrices.\n",
    "\n",
    "**Output:** The process will be visualized with the evolving factor graph, and finally using a Plotly animation showing the robot's estimated path, mapped landmarks, and uncertainty ellipses evolving over time."
   ]
  },
  {
   "cell_type": "markdown",
   "id": "setup-imports-srif",
   "metadata": {},
   "source": [
    "## 1. Setup and Imports"
   ]
  },
  {
   "cell_type": "code",
   "execution_count": null,
   "id": "install-code-srif",
   "metadata": {},
   "outputs": [],
   "source": [
    "# Install GTSAM and Plotly from pip if running in Google Colab\n",
    "try:\n",
    "    import google.colab\n",
    "    %pip install --quiet gtsam-develop plotly\n",
    "except ImportError:\n",
    "    pass # Not in Colab"
   ]
  },
  {
   "cell_type": "code",
   "execution_count": null,
   "id": "imports-code-srif",
   "metadata": {},
   "outputs": [],
   "source": [
    "import numpy as np\n",
    "from tqdm.notebook import tqdm # Progress bar\n",
    "import math\n",
    "import time # To slow down graphviz display if needed\n",
    "\n",
    "import gtsam\n",
    "from gtsam.symbol_shorthand import X, L # Symbols for poses and landmarks\n",
    "\n",
    "# Imports for new modules\n",
    "import simulation\n",
    "from gtsam_plotly import SlamFrameData, create_slam_animation\n",
    "\n",
    "# Imports for graph visualization\n",
    "import graphviz"
   ]
  },
  {
   "cell_type": "markdown",
   "id": "params-srif",
   "metadata": {},
   "source": [
    "## 2. Simulation Parameters"
   ]
  },
  {
   "cell_type": "code",
   "execution_count": null,
   "id": "params-code-srif",
   "metadata": {},
   "outputs": [],
   "source": [
    "# World parameters\n",
    "NUM_LANDMARKS = 15\n",
    "WORLD_SIZE = 10.0 # Environment bounds [-WORLD_SIZE/2, WORLD_SIZE/2]\n",
    "\n",
    "# Robot parameters\n",
    "ROBOT_RADIUS = 3.0\n",
    "ROBOT_ANGULAR_VEL = np.deg2rad(20.0) # Radians per step\n",
    "NUM_STEPS = 20 # Reduced steps for faster animation generation\n",
    "DT = 1.0 # Time step duration (simplified)\n",
    "\n",
    "# Noise parameters (GTSAM Noise Models)\n",
    "# Prior noise on the first pose (x, y, theta)\n",
    "PRIOR_NOISE = gtsam.noiseModel.Diagonal.Sigmas(np.array([0.1, 0.1, np.deg2rad(1.0)]))\n",
    "# Odometry noise (dx, dy, dtheta)\n",
    "ODOMETRY_NOISE = gtsam.noiseModel.Diagonal.Sigmas(np.array([0.1, 0.05, np.deg2rad(2.0)]))\n",
    "# Measurement noise (bearing, range)\n",
    "MEASUREMENT_NOISE = gtsam.noiseModel.Diagonal.Sigmas(np.array([np.deg2rad(2.0), 0.2]))\n",
    "\n",
    "# Sensor parameters\n",
    "MAX_SENSOR_RANGE = 5.0"
   ]
  },
  {
   "cell_type": "markdown",
   "id": "ground-truth-srif",
   "metadata": {},
   "source": [
    "## 3. Generate Ground Truth Data\n",
    "\n",
    "Use the `simulation` module to create true landmark positions, robot path, and simulate noisy measurements."
   ]
  },
  {
   "cell_type": "code",
   "execution_count": null,
   "id": "ground-truth-call-srif",
   "metadata": {},
   "outputs": [],
   "source": [
    "landmarks_gt_dict, poses_gt, odometry_measurements, measurements_sim, landmarks_gt_array = \\\n",
    "    simulation.generate_simulation_data(\n",
    "        num_landmarks=NUM_LANDMARKS,\n",
    "        world_size=WORLD_SIZE,\n",
    "        robot_radius=ROBOT_RADIUS,\n",
    "        robot_angular_vel=ROBOT_ANGULAR_VEL,\n",
    "        num_steps=NUM_STEPS,\n",
    "        dt=DT,\n",
    "        odometry_noise_model=ODOMETRY_NOISE,\n",
    "        measurement_noise_model=MEASUREMENT_NOISE,\n",
    "        max_sensor_range=MAX_SENSOR_RANGE,\n",
    "        X=X, # Pass symbol functions\n",
    "        L=L\n",
    "    )"
   ]
  },
  {
   "cell_type": "markdown",
   "id": "factor-graph-slam-impl",
   "metadata": {},
   "source": [
    "## 4. Iterative Factor Graph SLAM Implementation\n",
    "\n",
    "Here we perform the step-by-step prediction and update using factor graphs. The evolving graph will be displayed."
   ]
  },
  {
   "cell_type": "code",
   "execution_count": null,
   "id": "90bf9320",
   "metadata": {},
   "outputs": [],
   "source": [
    "WRITER = gtsam.GraphvizFormatting()\n",
    "WRITER.binaryEdges = True\n",
    "\n",
    "def mage_dot(graph, estimate):\n",
    "    return graph.dot(estimate, writer=WRITER)\n"
   ]
  },
  {
   "cell_type": "code",
   "execution_count": null,
   "id": "factor-graph-init-code",
   "metadata": {},
   "outputs": [],
   "source": [
    "# --- Initialization ---\n",
    "current_estimate = gtsam.Values() # Stores current best estimates (linearization points)\n",
    "current_graph = gtsam.NonlinearFactorGraph() # Stores factors added so far\n",
    "current_pose_key = X(0)\n",
    "\n",
    "# Add prior on the initial pose X(0)\n",
    "initial_pose = poses_gt[0] # Start at ground truth (or add noise)\n",
    "# Add a bit of noise to the initial guess if desired:\n",
    "# initial_pose_noisy = initial_pose.compose(gtsam.Pose2(0.1, 0.1, 0.01))\n",
    "# current_estimate.insert(current_pose_key, initial_pose_noisy)\n",
    "current_estimate.insert(current_pose_key, initial_pose) \n",
    "\n",
    "current_graph.add(gtsam.PriorFactorPose2(current_pose_key, initial_pose, PRIOR_NOISE))\n",
    "\n",
    "# Variables to store results for animation\n",
    "history  = [] # Store SLAMFrameData objects for each step\n",
    "known_landmarks = set() # Set of landmark keys L(j) currently in the state\n",
    "\n",
    "# Initial marginals (only for X(0))\n",
    "initial_gaussian_graph = current_graph.linearize(current_estimate)\n",
    "initial_marginals = gtsam.Marginals(initial_gaussian_graph, current_estimate)\n",
    "history.append(SlamFrameData(0, current_estimate, initial_marginals, mage_dot(current_graph, current_estimate)))"
   ]
  },
  {
   "cell_type": "markdown",
   "id": "factor-graph-loop",
   "metadata": {},
   "source": [
    "### Main Iterative Loop"
   ]
  },
  {
   "cell_type": "code",
   "execution_count": null,
   "id": "factor-graph-loop-code",
   "metadata": {},
   "outputs": [],
   "source": [
    "print(\"Running Iterative Factor Graph SLAM...\")\n",
    "\n",
    "for k in tqdm(range(NUM_STEPS)):\n",
    "    # === Prediction Step ===\n",
    "    prev_pose_key = X(k)\n",
    "    current_pose_key = X(k + 1)\n",
    "    odom_k = odometry_measurements[k]\n",
    "    \n",
    "    # Predict next pose and add to Values (linearization point)\n",
    "    # Ensure previous pose exists before accessing\n",
    "    predicted_pose = current_estimate.atPose2(prev_pose_key).compose(odom_k)\n",
    "    \n",
    "    # Insert or update the current pose prediction\n",
    "    current_estimate.insert_or_assign(current_pose_key, predicted_pose)\n",
    "    \n",
    "    # Add odometry factor to the graph\n",
    "    current_graph.add(gtsam.BetweenFactorPose2(prev_pose_key, current_pose_key, odom_k, ODOMETRY_NOISE))\n",
    "\n",
    "    # === Update Step ===\n",
    "    measurements_k1 = measurements_sim[k + 1] # Measurements taken AT pose k+1\n",
    "    landmarks_observed_this_step = set()\n",
    "\n",
    "    for lm_key, measured_bearing, measured_range in measurements_k1:\n",
    "        landmarks_observed_this_step.add(lm_key)\n",
    "        \n",
    "        # If landmark is new, initialize its estimate\n",
    "        if not current_estimate.exists(lm_key):\n",
    "            # Initial guess based on current pose estimate and measurement\n",
    "            current_pose_val = current_estimate.atPose2(current_pose_key)\n",
    "            delta_x = measured_range * math.cos(measured_bearing.theta())\n",
    "            delta_y = measured_range * math.sin(measured_bearing.theta())\n",
    "            # Transform delta from robot frame to world frame\n",
    "            lm_initial_guess = current_pose_val.transformFrom(gtsam.Point2(delta_x, delta_y))\n",
    "            current_estimate.insert(lm_key, lm_initial_guess)\n",
    "            known_landmarks.add(lm_key)\n",
    "\n",
    "        # Add measurement factor\n",
    "        current_graph.add(gtsam.BearingRangeFactor2D(current_pose_key, lm_key, \n",
    "                                                        measured_bearing, measured_range,\n",
    "                                                        MEASUREMENT_NOISE))\n",
    "    \n",
    "    # --- Optimization (Incremental Smoothing) ---\n",
    "    optimizer = gtsam.LevenbergMarquardtOptimizer(current_graph, current_estimate)\n",
    "    current_estimate = optimizer.optimize() # Update estimates by optimizing the whole graph so far\n",
    "        \n",
    "    # Calculate marginals for visualization (can be slow for large graphs)\n",
    "    current_gaussian_graph = current_graph.linearize(current_estimate)\n",
    "    current_marginals = gtsam.Marginals(current_gaussian_graph, current_estimate)\n",
    "\n",
    "    # Store the current state for visualization\n",
    "    history.append(SlamFrameData(k+1, current_estimate, current_marginals, mage_dot(current_graph, current_estimate)))\n",
    "\n",
    "print(\"\\nIterative Factor Graph SLAM finished.\")\n",
    "print(f\"Final number of poses estimated: {len([key for key in current_estimate.keys() if gtsam.Symbol(key).chr() == ord('x')])}\")\n",
    "print(f\"Number of landmarks mapped: {len(known_landmarks)}\")"
   ]
  },
  {
   "cell_type": "markdown",
   "id": "plotly-animation",
   "metadata": {},
   "source": [
    "## 5. Create Plotly Animation\n",
    "\n",
    "Use the `gtsam_plotly` module to visualize the results."
   ]
  },
  {
   "cell_type": "code",
   "execution_count": null,
   "id": "plotly-animation-call-code",
   "metadata": {
    "scrolled": false,
    "tags": []
   },
   "outputs": [],
   "source": [
    "fig = create_slam_animation(\n",
    "    history,\n",
    "    landmarks_gt_array=landmarks_gt_array,\n",
    "    poses_gt=poses_gt,\n",
    "    world_size=WORLD_SIZE,\n",
    "    X=X,  # Pass symbol functions\n",
    "    L=L,\n",
    "    max_landmark_index=NUM_LANDMARKS,\n",
    ")\n",
    "\n",
    "print(\"Displaying animation...\")\n",
    "fig.show()"
   ]
  },
  {
   "cell_type": "markdown",
   "id": "discussion-srif",
   "metadata": {},
   "source": [
    "## 6. Discussion\n",
    "\n",
    "*   **Approach:** This notebook implemented SLAM iteratively using GTSAM factor graphs. At each step, new factors (odometry, measurements) were added, and the graph was re-optimized using Levenberg-Marquardt. This is more akin to **incremental smoothing** than a classic filter (which would explicitly marginalize past states).\n",
    "*   **Modularity:** Simulation and Plotly visualization code have been moved into separate `simulation.py` and `gtsam_plotly.py` files for better organization.\n",
    "*   **Graph Visualization:** The `graphviz` library was used to render the factor graph at each step. This helps visualize how the graph structure grows and connects poses and landmarks.\n",
    "*   **Efficiency:** Optimizing the entire graph at every step becomes computationally expensive for long trajectories. For real-time performance or large problems, **iSAM2 (Incremental Smoothing and Mapping)** is the preferred GTSAM algorithm. iSAM2 efficiently updates the solution by only re-linearizing and re-solving parts of the graph affected by new measurements.\n",
    "*   **Accuracy vs. EKF:** This factor graph approach generally handles non-linearities better than a standard EKF because it re-linearizes during optimization. It avoids some of the consistency pitfalls associated with the EKF's single linearization point per step.\n",
    "*   **Visualization:** The Plotly animation shows the evolution of the robot's path estimate, the map of landmarks, and their associated uncertainties (covariance ellipses). You can observe how measurements help refine the estimates and reduce uncertainty, especially when loops are closed (implicitly here through repeated observations of landmarks)."
   ]
  }
 ],
 "metadata": {
  "kernelspec": {
   "display_name": "py312",
   "language": "python",
   "name": "python3"
  },
  "language_info": {
   "codemirror_mode": {
    "name": "ipython",
    "version": 3
   },
   "file_extension": ".py",
   "mimetype": "text/x-python",
   "name": "python",
   "nbconvert_exporter": "python",
   "pygments_lexer": "ipython3",
   "version": "3.12.6"
  }
 },
 "nbformat": 4,
 "nbformat_minor": 5
}
